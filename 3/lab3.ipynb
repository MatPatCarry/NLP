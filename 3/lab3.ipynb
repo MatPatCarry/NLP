{
 "cells": [
  {
   "cell_type": "code",
   "execution_count": 1,
   "metadata": {},
   "outputs": [
    {
     "name": "stderr",
     "output_type": "stream",
     "text": [
      "/home/konrad-kielczynski/miniconda3/envs/golem-ner/lib/python3.10/site-packages/tqdm/auto.py:21: TqdmWarning: IProgress not found. Please update jupyter and ipywidgets. See https://ipywidgets.readthedocs.io/en/stable/user_install.html\n",
      "  from .autonotebook import tqdm as notebook_tqdm\n"
     ]
    }
   ],
   "source": [
    "import os\n",
    "os.environ[\"CUDA_VISIBLE_DEVICES\"] = \"1\"\n",
    "\n",
    "import torch\n",
    "from datasets import load_dataset, Dataset\n",
    "from sentence_transformers import SentenceTransformer, CrossEncoder\n",
    "import pandas as pd\n",
    "import random\n",
    "from tqdm import tqdm"
   ]
  },
  {
   "cell_type": "code",
   "execution_count": 2,
   "metadata": {},
   "outputs": [
    {
     "data": {
      "text/plain": [
       "'cuda'"
      ]
     },
     "execution_count": 2,
     "metadata": {},
     "output_type": "execute_result"
    }
   ],
   "source": [
    "device = \"cuda\" if torch.cuda.is_available() else \"cpu\"\n",
    "# device = \"mps\"\n",
    "device"
   ]
  },
  {
   "cell_type": "code",
   "execution_count": 3,
   "metadata": {},
   "outputs": [
    {
     "data": {
      "text/plain": [
       "Dataset({\n",
       "    features: ['question', 'answer'],\n",
       "    num_rows: 87599\n",
       "})"
      ]
     },
     "execution_count": 3,
     "metadata": {},
     "output_type": "execute_result"
    }
   ],
   "source": [
    "dataset = load_dataset(\"sentence-transformers/squad\", split=\"train\")\n",
    "dataset"
   ]
  },
  {
   "cell_type": "code",
   "execution_count": 4,
   "metadata": {},
   "outputs": [
    {
     "data": {
      "text/plain": [
       "Dataset({\n",
       "    features: ['question', 'answer'],\n",
       "    num_rows: 10000\n",
       "})"
      ]
     },
     "execution_count": 4,
     "metadata": {},
     "output_type": "execute_result"
    }
   ],
   "source": [
    "dataset = dataset.select(range(10000))\n",
    "# dataset = dataset.select(range(165, 200))\n",
    "dataset"
   ]
  },
  {
   "cell_type": "markdown",
   "metadata": {},
   "source": [
    "## Retrieval"
   ]
  },
  {
   "cell_type": "code",
   "execution_count": 5,
   "metadata": {},
   "outputs": [
    {
     "data": {
      "text/plain": [
       "SentenceTransformer(\n",
       "  (0): Transformer({'max_seq_length': 512, 'do_lower_case': False}) with Transformer model: MPNetModel \n",
       "  (1): Pooling({'word_embedding_dimension': 768, 'pooling_mode_cls_token': True, 'pooling_mode_mean_tokens': False, 'pooling_mode_max_tokens': False, 'pooling_mode_mean_sqrt_len_tokens': False, 'pooling_mode_weightedmean_tokens': False, 'pooling_mode_lasttoken': False, 'include_prompt': True})\n",
       ")"
      ]
     },
     "execution_count": 5,
     "metadata": {},
     "output_type": "execute_result"
    }
   ],
   "source": [
    "model = SentenceTransformer(\"multi-qa-mpnet-base-dot-v1\")\n",
    "model.to(device)"
   ]
  },
  {
   "cell_type": "markdown",
   "metadata": {},
   "source": [
    "#### Calculate embeddings"
   ]
  },
  {
   "cell_type": "code",
   "execution_count": 6,
   "metadata": {},
   "outputs": [
    {
     "data": {
      "text/plain": [
       "torch.Size([10000, 768])"
      ]
     },
     "execution_count": 6,
     "metadata": {},
     "output_type": "execute_result"
    }
   ],
   "source": [
    "questions_emb = model.encode(dataset[\"question\"], convert_to_tensor=True)\n",
    "questions_emb.shape"
   ]
  },
  {
   "cell_type": "markdown",
   "metadata": {},
   "source": [
    "Answer are encoded differently because they repeat in the dataset:"
   ]
  },
  {
   "cell_type": "code",
   "execution_count": 7,
   "metadata": {},
   "outputs": [],
   "source": [
    "# This is very slow because we are embedding the same answer text multiple times\n",
    "\n",
    "# dataset2 = dataset.map(\n",
    "#     lambda x: {\n",
    "#         \"question_emb\": model.encode(x[\"question\"], convert_to_tensor=True),\n",
    "#         \"answer_emb\": model.encode(x[\"answer\"], convert_to_tensor=True),\n",
    "#     },\n",
    "#     batched=True\n",
    "# )\n"
   ]
  },
  {
   "cell_type": "code",
   "execution_count": 8,
   "metadata": {},
   "outputs": [
    {
     "name": "stdout",
     "output_type": "stream",
     "text": [
      "Num of unique answers: 1867\n"
     ]
    }
   ],
   "source": [
    "df = dataset.to_pandas()\n",
    "\n",
    "df[\"answer_map\"] = pd.factorize(df[\"answer\"])[0]\n",
    "unique_answers = df[\"answer\"].drop_duplicates().tolist()\n",
    "print(\"Num of unique answers:\", len(unique_answers))\n",
    "\n",
    "dataset = Dataset.from_pandas(df)"
   ]
  },
  {
   "cell_type": "code",
   "execution_count": 9,
   "metadata": {},
   "outputs": [
    {
     "data": {
      "text/plain": [
       "torch.Size([1867, 768])"
      ]
     },
     "execution_count": 9,
     "metadata": {},
     "output_type": "execute_result"
    }
   ],
   "source": [
    "answers_emb = model.encode(unique_answers, convert_to_tensor=True)\n",
    "answers_emb.shape"
   ]
  },
  {
   "cell_type": "markdown",
   "metadata": {},
   "source": [
    "#### Making queries"
   ]
  },
  {
   "cell_type": "code",
   "execution_count": 10,
   "metadata": {},
   "outputs": [],
   "source": [
    "top_k = 5"
   ]
  },
  {
   "cell_type": "code",
   "execution_count": 11,
   "metadata": {},
   "outputs": [],
   "source": [
    "def print_query_results(question_idx, scores, indices):\n",
    "    print(\"\\nQuestion:\", dataset[\"question\"][question_idx])\n",
    "    print(f\"Correct answer IDX: {dataset['answer_map'][question_idx]}\\n\")\n",
    "\n",
    "    for i, (score, idx) in enumerate(zip(scores, indices)):\n",
    "        print(f\"Answer {i+1} IDX: {idx}\")\n",
    "        print(f\"Score: {score.item()}\")\n",
    "        print(f\"Text: {unique_answers[idx]}\\n\")\n",
    "    \n",
    "    print(\"=====================================\")"
   ]
  },
  {
   "cell_type": "code",
   "execution_count": 12,
   "metadata": {},
   "outputs": [],
   "source": [
    "def analyze_question(question_idx, top_k=5):\n",
    "    question_emb = questions_emb[question_idx]\n",
    "\n",
    "    similarity_scores = model.similarity(question_emb, answers_emb)[0]\n",
    "\n",
    "    scores, indices = torch.topk(similarity_scores, k=top_k)\n",
    "\n",
    "    print_query_results(question_idx, scores, indices)"
   ]
  },
  {
   "cell_type": "code",
   "execution_count": 13,
   "metadata": {},
   "outputs": [
    {
     "name": "stdout",
     "output_type": "stream",
     "text": [
      "\n",
      "Question: To whom did the Virgin Mary allegedly appear in 1858 in Lourdes France?\n",
      "Correct answer IDX: 0\n",
      "\n",
      "Answer 1 IDX: 0\n",
      "Score: 21.645755767822266\n",
      "Text: Architecturally, the school has a Catholic character. Atop the Main Building's gold dome is a golden statue of the Virgin Mary. Immediately in front of the Main Building and facing it, is a copper statue of Christ with arms upraised with the legend \"Venite Ad Me Omnes\". Next to the Main Building is the Basilica of the Sacred Heart. Immediately behind the basilica is the Grotto, a Marian place of prayer and reflection. It is a replica of the grotto at Lourdes, France where the Virgin Mary reputedly appeared to Saint Bernadette Soubirous in 1858. At the end of the main drive (and in a direct line that connects through 3 statues and the Gold Dome), is a simple, modern stone statue of Mary.\n",
      "\n",
      "Answer 2 IDX: 589\n",
      "Score: 16.991615295410156\n",
      "Text: The first documented visit by a European was in 1524 by Giovanni da Verrazzano, a Florentine explorer in the service of the French crown, who sailed his ship La Dauphine into New York Harbor. He claimed the area for France and named it \"Nouvelle Angoulême\" (New Angoulême).\n",
      "\n",
      "Answer 3 IDX: 983\n",
      "Score: 15.784934043884277\n",
      "Text: Tourist hotspots in Portugal are Lisbon, Algarve, Madeira, Porto and the city of Coimbra, also, between 4-5 million religious pilgrims visit Fátima each year, where apparitions of the Blessed Virgin Mary to three shepherd children reportedly took place in 1917. The Sanctuary of Fátima is one of the largest Roman Catholic shrines in the world. The Portuguese government continues to promote and develop new tourist destinations, such as the Douro Valley, the island of Porto Santo, and Alentejo. Lisbon is the 16th European city which attracts the most tourists (with seven million tourists occupying the city's hotels in 2006, a number that grew 11.8% compared to previous year). Lisbon in recent years surpassed the Algarve as the leading tourist region in Portugal. Porto and Northern Portugal, especially the urban areas north of Douro River valley, was the tourist destination which grew most (11.9%) in 2006, surpassing Madeira (in 2010), as the third most visited destination.[citation needed]\n",
      "\n",
      "Answer 4 IDX: 38\n",
      "Score: 15.5897216796875\n",
      "Text: The University of Notre Dame du Lac (or simply Notre Dame /ˌnoʊtərˈdeɪm/ NOH-tər-DAYM) is a Catholic research university located adjacent to South Bend, Indiana, in the United States. In French, Notre Dame du Lac means \"Our Lady of the Lake\" and refers to the university's patron saint, the Virgin Mary. The main campus covers 1,250 acres in a suburban setting and it contains a number of recognizable landmarks, such as the Golden Dome, the \"Word of Life\" mural (commonly known as Touchdown Jesus), and the Basilica.\n",
      "\n",
      "Answer 5 IDX: 999\n",
      "Score: 15.161377906799316\n",
      "Text: Within the white inescutcheon, the five quinas (small blue shields) with their five white bezants representing the five wounds of Christ (Portuguese: Cinco Chagas) when crucified and are popularly associated with the \"Miracle of Ourique\". The story associated with this miracle tells that before the Battle of Ourique (25 July 1139), an old hermit appeared before Count Afonso Henriques (future Afonso I) as a divine messenger. He foretold Afonso's victory and assured him that God was watching over him and his peers. The messenger advised him to walk away from his camp, alone, if he heard a nearby chapel bell tolling, in the following night. In doing so, he witnessed an apparition of Jesus on the cross. Ecstatic, Afonso heard Jesus promising victories for the coming battles, as well as God's wish to act through Afonso, and his descendants, in order to create an empire which would carry His name to unknown lands, thus choosing the Portuguese to perform great tasks.\n",
      "\n",
      "=====================================\n"
     ]
    }
   ],
   "source": [
    "analyze_question(0, top_k)"
   ]
  },
  {
   "cell_type": "code",
   "execution_count": 14,
   "metadata": {},
   "outputs": [
    {
     "data": {
      "text/plain": [
       "[1824, 409, 4506, 4012, 3657]"
      ]
     },
     "execution_count": 14,
     "metadata": {},
     "output_type": "execute_result"
    }
   ],
   "source": [
    "n = 5\n",
    "\n",
    "random.seed(42)\n",
    "random_indices = random.sample(range(len(dataset)), n)\n",
    "random_indices"
   ]
  },
  {
   "cell_type": "code",
   "execution_count": 15,
   "metadata": {},
   "outputs": [
    {
     "name": "stdout",
     "output_type": "stream",
     "text": [
      "\n",
      "Question: What condition did Frédéric describe the piano that arrived to him through many dangerous obstacles?\n",
      "Correct answer IDX: 244\n",
      "\n",
      "Answer 1 IDX: 244\n",
      "Score: 23.215900421142578\n",
      "Text: On 3 December, Chopin complained about his bad health and the incompetence of the doctors in Majorca: \"Three doctors have visited me ... The first said I was dead; the second said I was dying; and the third said I was about to die.\" He also had problems having his Pleyel piano sent to him. It finally arrived from Paris in December. Chopin wrote to Pleyel in January 1839: \"I am sending you my Preludes [(Op. 28)]. I finished them on your little piano, which arrived in the best possible condition in spite of the sea, the bad weather and the Palma customs.\" Chopin was also able to undertake work on his Ballade No. 2, Op. 38; two Polonaises, Op. 40; and the Scherzo No. 3, Op. 39.\n",
      "\n",
      "Answer 2 IDX: 296\n",
      "Score: 22.43903923034668\n",
      "Text: Jones comments that \"Chopin's unique position as a composer, despite the fact that virtually everything he wrote was for the piano, has rarely been questioned.\" He also notes that Chopin was fortunate to arrive in Paris in 1831—\"the artistic environment, the publishers who were willing to print his music, the wealthy and aristocratic who paid what Chopin asked for their lessons\"—and these factors, as well as his musical genius, also fuelled his contemporary and later reputation. While his illness and his love-affairs conform to some of the stereotypes of romanticism, the rarity of his public recitals (as opposed to performances at fashionable Paris soirées) led Arthur Hutchings to suggest that \"his lack of Byronic flamboyance [and] his aristocratic reclusiveness make him exceptional\" among his romantic contemporaries, such as Liszt and Henri Herz.\n",
      "\n",
      "Answer 3 IDX: 248\n",
      "Score: 21.625808715820312\n",
      "Text: From 1842 onwards, Chopin showed signs of serious illness. After a solo recital in Paris on 21 February 1842, he wrote to Grzymała: \"I have to lie in bed all day long, my mouth and tonsils are aching so much.\" He was forced by illness to decline a written invitation from Alkan to participate in a repeat performance of the Beethoven Seventh Symphony arrangement at Erard's on 1 March 1843. Late in 1844, Charles Hallé visited Chopin and found him \"hardly able to move, bent like a half-opened penknife and evidently in great pain\", although his spirits returned when he started to play the piano for his visitor. Chopin's health continued to deteriorate, particularly from this time onwards. Modern research suggests that apart from any other illnesses, he may also have suffered from temporal lobe epilepsy.\n",
      "\n",
      "Answer 4 IDX: 217\n",
      "Score: 21.403244018554688\n",
      "Text: Frédéric François Chopin (/ˈʃoʊpæn/; French pronunciation: ​[fʁe.de.ʁik fʁɑ̃.swa ʃɔ.pɛ̃]; 22 February or 1 March 1810 – 17 October 1849), born Fryderyk Franciszek Chopin,[n 1] was a Polish and French (by citizenship and birth of father) composer and a virtuoso pianist of the Romantic era, who wrote primarily for the solo piano. He gained and has maintained renown worldwide as one of the leading musicians of his era, whose \"poetic genius was based on a professional technique that was without equal in his generation.\" Chopin was born in what was then the Duchy of Warsaw, and grew up in Warsaw, which after 1815 became part of Congress Poland. A child prodigy, he completed his musical education and composed his earlier works in Warsaw before leaving Poland at the age of 20, less than a month before the outbreak of the November 1830 Uprising.\n",
      "\n",
      "Answer 5 IDX: 218\n",
      "Score: 20.6252498626709\n",
      "Text: At the age of 21 he settled in Paris. Thereafter, during the last 18 years of his life, he gave only some 30 public performances, preferring the more intimate atmosphere of the salon. He supported himself by selling his compositions and teaching piano, for which he was in high demand. Chopin formed a friendship with Franz Liszt and was admired by many of his musical contemporaries, including Robert Schumann. In 1835 he obtained French citizenship. After a failed engagement to Maria Wodzińska, from 1837 to 1847 he maintained an often troubled relationship with the French writer George Sand. A brief and unhappy visit to Majorca with Sand in 1838–39 was one of his most productive periods of composition. In his last years, he was financially supported by his admirer Jane Stirling, who also arranged for him to visit Scotland in 1848. Through most of his life, Chopin suffered from poor health. He died in Paris in 1849, probably of tuberculosis.\n",
      "\n",
      "=====================================\n",
      "\n",
      "Question: When did Beyoncé release her first solo album?\n",
      "Correct answer IDX: 65\n",
      "\n",
      "Answer 1 IDX: 56\n",
      "Score: 21.415754318237305\n",
      "Text: Following the disbandment of Destiny's Child in June 2005, she released her second solo album, B'Day (2006), which contained hits \"Déjà Vu\", \"Irreplaceable\", and \"Beautiful Liar\". Beyoncé also ventured into acting, with a Golden Globe-nominated performance in Dreamgirls (2006), and starring roles in The Pink Panther (2006) and Obsessed (2009). Her marriage to rapper Jay Z and portrayal of Etta James in Cadillac Records (2008) influenced her third album, I Am... Sasha Fierce (2008), which saw the birth of her alter-ego Sasha Fierce and earned a record-setting six Grammy Awards in 2010, including Song of the Year for \"Single Ladies (Put a Ring on It)\". Beyoncé took a hiatus from music in 2010 and took over management of her career; her fourth album 4 (2011) was subsequently mellower in tone, exploring 1970s funk, 1980s pop, and 1990s soul. Her critically acclaimed fifth studio album, Beyoncé (2013), was distinguished from previous releases by its experimental production and exploration of darker themes.\n",
      "\n",
      "Answer 2 IDX: 80\n",
      "Score: 20.77705192565918\n",
      "Text: On February 6, 2016, one day before her performance at the Super Bowl, Beyoncé released a new single exclusively on music streaming service Tidal called \"Formation\".\n",
      "\n",
      "Answer 3 IDX: 78\n",
      "Score: 20.68880844116211\n",
      "Text: On December 13, 2013, Beyoncé unexpectedly released her eponymous fifth studio album on the iTunes Store without any prior announcement or promotion. The album debuted atop the Billboard 200 chart, giving Beyoncé her fifth consecutive number-one album in the US. This made her the first woman in the chart's history to have her first five studio albums debut at number one. Beyoncé received critical acclaim and commercial success, selling one million digital copies worldwide in six days; The New York Times noted the album's unconventional, unexpected release as significant. Musically an electro-R&B album, it concerns darker themes previously unexplored in her work, such as \"bulimia, postnatal depression [and] the fears and insecurities of marriage and motherhood\". The single \"Drunk in Love\", featuring Jay Z, peaked at number two on the Billboard Hot 100 chart. In April 2014, after much speculation in the weeks before, Beyoncé and Jay Z officially announced their On the Run Tour. It served as the couple's first co-headlining stadium tour together. On August 24, 2014, she received the Video Vanguard Award at the 2014 MTV Video Music Awards. Knowles also took home three competitive awards: Best Video with a Social Message and Best Cinematography for \"Pretty Hurts\", as well as best collaboration for \"Drunk in Love\". In November, Forbes reported that Beyoncé was the top-earning woman in music for the second year in a row—earning $115 million in the year, more than double her earnings in 2013. Beyoncé was reissued with new material in three forms: as an extended play, a box set, as well as a full platinum edition.\n",
      "\n",
      "Answer 4 IDX: 67\n",
      "Score: 20.329553604125977\n",
      "Text: Beyoncé's second solo album B'Day was released on September 5, 2006, in the US, to coincide with her twenty-fifth birthday. It sold 541,000 copies in its first week and debuted atop the Billboard 200, becoming Beyoncé's second consecutive number-one album in the United States. The album's lead single \"Déjà Vu\", featuring Jay Z, reached the top five on the Billboard Hot 100 chart. The second international single \"Irreplaceable\" was a commercial success worldwide, reaching number one in Australia, Hungary, Ireland, New Zealand and the United States. B'Day also produced three other singles; \"Ring the Alarm\", \"Get Me Bodied\", and \"Green Light\" (released in the United Kingdom only).\n",
      "\n",
      "Answer 5 IDX: 65\n",
      "Score: 20.207992553710938\n",
      "Text: Beyoncé's first solo recording was a feature on Jay Z's \"'03 Bonnie & Clyde\" that was released in October 2002, peaking at number four on the U.S. Billboard Hot 100 chart. Her first solo album Dangerously in Love was released on June 24, 2003, after Michelle Williams and Kelly Rowland had released their solo efforts. The album sold 317,000 copies in its first week, debuted atop the Billboard 200, and has since sold 11 million copies worldwide. The album's lead single, \"Crazy in Love\", featuring Jay Z, became Beyoncé's first number-one single as a solo artist in the US. The single \"Baby Boy\" also reached number one, and singles, \"Me, Myself and I\" and \"Naughty Girl\", both reached the top-five. The album earned Beyoncé a then record-tying five awards at the 46th Annual Grammy Awards; Best Contemporary R&B Album, Best Female R&B Vocal Performance for \"Dangerously in Love 2\", Best R&B Song and Best Rap/Sung Collaboration for \"Crazy in Love\", and Best R&B Performance by a Duo or Group with Vocals for \"The Closer I Get to You\" with Luther Vandross.\n",
      "\n",
      "=====================================\n",
      "\n",
      "Question: Who was the first person to drive through The Queens-Midtown Tunnel?\n",
      "Correct answer IDX: 700\n",
      "\n",
      "Answer 1 IDX: 700\n",
      "Score: 24.942962646484375\n",
      "Text: Manhattan Island is linked to New York City's outer boroughs and New Jersey by several tunnels as well. The Lincoln Tunnel, which carries 120,000 vehicles a day under the Hudson River between New Jersey and Midtown Manhattan, is the busiest vehicular tunnel in the world. The tunnel was built instead of a bridge to allow unfettered passage of large passenger and cargo ships that sailed through New York Harbor and up the Hudson River to Manhattan's piers. The Holland Tunnel, connecting Lower Manhattan to Jersey City, New Jersey, was the world's first mechanically ventilated vehicular tunnel when it opened in 1927. The Queens-Midtown Tunnel, built to relieve congestion on the bridges connecting Manhattan with Queens and Brooklyn, was the largest non-federal project in its time when it was completed in 1940. President Franklin D. Roosevelt was the first person to drive through it. The Hugh L. Carey Tunnel runs underneath Battery Park and connects the Financial District at the southern tip of Manhattan to Red Hook in Brooklyn.\n",
      "\n",
      "Answer 2 IDX: 699\n",
      "Score: 18.635751724243164\n",
      "Text: The George Washington Bridge is the world's busiest motor vehicle bridge, connecting Manhattan to Bergen County, New Jersey. The Verrazano-Narrows Bridge is the longest suspension bridge in the Americas and one of the world's longest. The Brooklyn Bridge is an icon of the city itself. The towers of the Brooklyn Bridge are built of limestone, granite, and Rosendale cement, and their architectural style is neo-Gothic, with characteristic pointed arches above the passageways through the stone towers. This bridge was also the longest suspension bridge in the world from its opening until 1903, and is the first steel-wire suspension bridge.\n",
      "\n",
      "Answer 3 IDX: 11\n",
      "Score: 17.565139770507812\n",
      "Text: In 1882, Albert Zahm (John Zahm's brother) built an early wind tunnel used to compare lift to drag of aeronautical models. Around 1899, Professor Jerome Green became the first American to send a wireless message. In 1931, Father Julius Nieuwland performed early work on basic reactions that was used to create neoprene. Study of nuclear physics at the university began with the building of a nuclear accelerator in 1936, and continues now partly through a partnership in the Joint Institute for Nuclear Astrophysics.\n",
      "\n",
      "Answer 4 IDX: 592\n",
      "Score: 16.183517456054688\n",
      "Text: The first non-Native American inhabitant of what would eventually become New York City was Dominican trader Juan Rodriguez (transliterated to Dutch as Jan Rodrigues). Born in Santo Domingo of Portuguese and African descent, he arrived in Manhattan during the winter of 1613–1614, trapping for pelts and trading with the local population as a representative of the Dutch. Broadway, from 159th Street to 218th Street, is named Juan Rodriguez Way in his honor.\n",
      "\n",
      "Answer 5 IDX: 720\n",
      "Score: 15.95109748840332\n",
      "Text: New York City also has an extensive web of expressways and parkways, which link the city's boroughs to each other as well as to northern New Jersey, Westchester County, Long Island, and southwestern Connecticut through various bridges and tunnels. Because these highways serve millions of outer borough and suburban residents who commute into Manhattan, it is quite common for motorists to be stranded for hours in traffic jams that are a daily occurrence, particularly during rush hour.\n",
      "\n",
      "=====================================\n",
      "\n",
      "Question: What public figure defended New York in January 2016?\n",
      "Correct answer IDX: 616\n",
      "\n",
      "Answer 1 IDX: 616\n",
      "Score: 23.00588607788086\n",
      "Text: When one Republican presidential candidate for the 2016 election ridiculed the liberalism of \"New York values\" in January 2016, Donald Trump, leading in the polls, vigorously defended his city. The National Review, a conservative magazine published in the city since its founding by William F. Buckley, Jr. in 1955, commented, \"By hearkening back to New York's heart after 9/11, for a moment Trump transcended politics. How easily we forget, but for weeks after the terror attacks, New York was America.\"\n",
      "\n",
      "Answer 2 IDX: 647\n",
      "Score: 20.73418426513672\n",
      "Text: The New York metropolitan area is home to a self-identifying gay and bisexual community estimated at 568,903 individuals, the largest in the United States and one of the world's largest. Same-sex marriages in New York were legalized on June 24, 2011 and were authorized to take place beginning 30 days thereafter.\n",
      "\n",
      "Answer 3 IDX: 580\n",
      "Score: 18.844511032104492\n",
      "Text: The AP reported that \"The state-controlled media has largely ignored the issue, apparently under the propaganda bureau's instructions. Parents and volunteers who have questioned authorities have been detained and threatened.\"\n",
      "\n",
      "Answer 4 IDX: 606\n",
      "Score: 18.625972747802734\n",
      "Text: Democratic Party candidates were consistently elected to local office, increasing the city's ties to the South and its dominant party. In 1861, Mayor Fernando Wood called on the aldermen to declare independence from Albany and the United States after the South seceded, but his proposal was not acted on. Anger at new military conscription laws during the American Civil War (1861–1865), which spared wealthier men who could afford to pay a $300 (equivalent to $5,766 in 2016) commutation fee to hire a substitute, led to the Draft Riots of 1863, whose most visible participants were ethnic Irish working class. The situation deteriorated into attacks on New York's elite, followed by attacks on black New Yorkers and their property after fierce competition for a decade between Irish immigrants and blacks for work. Rioters burned the Colored Orphan Asylum to the ground, but more than 200 children escaped harm due to efforts of the New York City Police Department, which was mainly made up of Irish immigrants. According to historian James M. McPherson (2001), at least 120 people were killed. In all, eleven black men were lynched over five days, and the riots forced hundreds of blacks to flee the city for Williamsburg, Brooklyn, as well as New Jersey; the black population in Manhattan fell below 10,000 by 1865, which it had last been in 1820. The white working class had established dominance. Violence by longshoremen against black men was especially fierce in the docks area. It was one of the worst incidents of civil unrest in American history.\n",
      "\n",
      "Answer 5 IDX: 594\n",
      "Score: 18.291271209716797\n",
      "Text: In 1664, Peter Stuyvesant, the Director-General of the colony of New Netherland, surrendered New Amsterdam to the English without bloodshed. The English promptly renamed the fledgling city \"New York\" after the Duke of York (later King James II).\n",
      "\n",
      "=====================================\n",
      "\n",
      "Question: What was used as a communications aid in the relief efforts?\n",
      "Correct answer IDX: 557\n",
      "\n",
      "Answer 1 IDX: 556\n",
      "Score: 20.05089569091797\n",
      "Text: On May 16, rescue groups from South Korea, Japan, Singapore, Russia and Taiwan arrived to join the rescue effort. The United States shared some of its satellite images of the quake-stricken areas with Chinese authorities. During the weekend, the US sent into China two U.S. Air Force C-17's carrying supplies, which included tents and generators. Xinhua reported 135,000 Chinese troops and medics were involved in the rescue effort across 58 counties and cities.\n",
      "\n",
      "Answer 2 IDX: 559\n",
      "Score: 20.03274917602539\n",
      "Text: Following the earthquake, donations were made by people from all over mainland China, with booths set up in schools, at banks, and around gas stations. People also donated blood, resulting in according to Xinhua long line-ups in most major Chinese cities. Many donated through text messaging on mobile phones to accounts set up by China Unicom and China Mobile By May 16, the Chinese government had allocated a total of $772 million for earthquake relief so far, up sharply from $159 million from May 14.\n",
      "\n",
      "Answer 3 IDX: 557\n",
      "Score: 19.85022735595703\n",
      "Text: The Internet was extensively used for passing information to aid rescue and recovery efforts. For example, the official news agency Xinhua set up an online rescue request center in order to find the blind spots of disaster recovery. After knowing that rescue helicopters had trouble landing into the epicenter area in Wenchuan, a student proposed a landing spot online and it was chosen as the first touchdown place for the helicopters[not in citation given]. Volunteers also set up several websites to help store contact information for victims and evacuees. On May 31, a rescue helicopter carrying earthquake survivors and crew members crashed in fog and turbulence in Wenchuan county. No-one survived.\n",
      "\n",
      "Answer 4 IDX: 522\n",
      "Score: 19.62718963623047\n",
      "Text: Immediately after the earthquake event, mobile and terrestrial telecommunications were cut to the affected and surrounding area, with all internet capabilities cut to the Sichuan area too. Elements of telecommunications were restored by the government piece by piece over the next number of months as the situation in the Sichuan province gradually improved. Eventually, a handful of major news and media websites were made accessible online in the region, albeit with dramatically pared back webpages.\n",
      "\n",
      "Answer 5 IDX: 551\n",
      "Score: 19.472126007080078\n",
      "Text: Many rescue teams, including that of the Taipei Fire Department from Taiwan, were reported ready to join the rescue effort in Sichuan as early as Wednesday. However, the Red Cross Society of China said that (on May 13) \"it was inconvenient currently due to the traffic problem to the hardest hit areas closest to the epicenter.\" The Red Cross Society of China also stated that the disaster areas need tents, medical supplies, drinking water and food; however it recommended donating cash instead of other items, as it had not been possible to reach roads that were completely damaged or places that were blocked off by landslides. Landslides continuously threatened the progress of a search and rescue group of 80 men, each carrying about 40 kg of relief supplies, from a motorized infantry brigade under commander Yang Wenyao, as they tried to reach the ethnically Tibetan village of Sier at a height of 4000 m above sea level in Pingwu county. The extreme terrain conditions precluded the use of helicopter evacuation, and over 300 of the Tibetan villagers were stranded in their demolished village for five days without food and water before the rescue group finally arrived to help the injured and stranded villagers down the mountain.\n",
      "\n",
      "=====================================\n"
     ]
    }
   ],
   "source": [
    "for idx in random_indices:\n",
    "    analyze_question(idx, top_k)"
   ]
  },
  {
   "cell_type": "markdown",
   "metadata": {},
   "source": [
    "#### Add FAISS"
   ]
  },
  {
   "cell_type": "code",
   "execution_count": 16,
   "metadata": {},
   "outputs": [
    {
     "data": {
      "text/plain": [
       "Dataset({\n",
       "    features: ['answer_emb', 'idx'],\n",
       "    num_rows: 1867\n",
       "})"
      ]
     },
     "execution_count": 16,
     "metadata": {},
     "output_type": "execute_result"
    }
   ],
   "source": [
    "answers_emb_dict = {\n",
    "    \"answer_emb\": [emb.detach().cpu().numpy() for emb in answers_emb],\n",
    "    \"idx\": [i for i, _ in enumerate(unique_answers)],\n",
    "}\n",
    "\n",
    "answers_emb_dataset = Dataset.from_dict(answers_emb_dict)\n",
    "\n",
    "answers_emb_dataset"
   ]
  },
  {
   "cell_type": "code",
   "execution_count": 17,
   "metadata": {},
   "outputs": [
    {
     "name": "stderr",
     "output_type": "stream",
     "text": [
      "100%|██████████| 2/2 [00:00<00:00, 245.45it/s]\n"
     ]
    },
    {
     "data": {
      "text/plain": [
       "Dataset({\n",
       "    features: ['answer_emb', 'idx'],\n",
       "    num_rows: 1867\n",
       "})"
      ]
     },
     "execution_count": 17,
     "metadata": {},
     "output_type": "execute_result"
    }
   ],
   "source": [
    "answers_emb_dataset.add_faiss_index(column=\"answer_emb\")"
   ]
  },
  {
   "cell_type": "code",
   "execution_count": 18,
   "metadata": {},
   "outputs": [],
   "source": [
    "def analyze_question_faiss(question_idx, top_k=5):\n",
    "    question_emb = questions_emb[question_idx].detach().cpu().numpy()\n",
    "    \n",
    "\n",
    "    scores, samples = answers_emb_dataset.get_nearest_examples(\n",
    "        \"answer_emb\", question_emb, k=top_k\n",
    "    )\n",
    "\n",
    "    print_query_results(question_idx, scores, samples[\"idx\"])"
   ]
  },
  {
   "cell_type": "code",
   "execution_count": 19,
   "metadata": {},
   "outputs": [
    {
     "name": "stdout",
     "output_type": "stream",
     "text": [
      "\n",
      "Question: To whom did the Virgin Mary allegedly appear in 1858 in Lourdes France?\n",
      "Correct answer IDX: 0\n",
      "\n",
      "Answer 1 IDX: 0\n",
      "Score: 37.27167510986328\n",
      "Text: Architecturally, the school has a Catholic character. Atop the Main Building's gold dome is a golden statue of the Virgin Mary. Immediately in front of the Main Building and facing it, is a copper statue of Christ with arms upraised with the legend \"Venite Ad Me Omnes\". Next to the Main Building is the Basilica of the Sacred Heart. Immediately behind the basilica is the Grotto, a Marian place of prayer and reflection. It is a replica of the grotto at Lourdes, France where the Virgin Mary reputedly appeared to Saint Bernadette Soubirous in 1858. At the end of the main drive (and in a direct line that connects through 3 statues and the Gold Dome), is a simple, modern stone statue of Mary.\n",
      "\n",
      "Answer 2 IDX: 589\n",
      "Score: 45.78667449951172\n",
      "Text: The first documented visit by a European was in 1524 by Giovanni da Verrazzano, a Florentine explorer in the service of the French crown, who sailed his ship La Dauphine into New York Harbor. He claimed the area for France and named it \"Nouvelle Angoulême\" (New Angoulême).\n",
      "\n",
      "Answer 3 IDX: 268\n",
      "Score: 48.35457229614258\n",
      "Text: The funeral, held at the Church of the Madeleine in Paris, was delayed almost two weeks, until 30 October. Entrance was restricted to ticket holders as many people were expected to attend. Over 3,000 people arrived without invitations, from as far as London, Berlin and Vienna, and were excluded.\n",
      "\n",
      "Answer 4 IDX: 38\n",
      "Score: 48.70299530029297\n",
      "Text: The University of Notre Dame du Lac (or simply Notre Dame /ˌnoʊtərˈdeɪm/ NOH-tər-DAYM) is a Catholic research university located adjacent to South Bend, Indiana, in the United States. In French, Notre Dame du Lac means \"Our Lady of the Lake\" and refers to the university's patron saint, the Virgin Mary. The main campus covers 1,250 acres in a suburban setting and it contains a number of recognizable landmarks, such as the Golden Dome, the \"Word of Life\" mural (commonly known as Touchdown Jesus), and the Basilica.\n",
      "\n",
      "Answer 5 IDX: 983\n",
      "Score: 48.75346374511719\n",
      "Text: Tourist hotspots in Portugal are Lisbon, Algarve, Madeira, Porto and the city of Coimbra, also, between 4-5 million religious pilgrims visit Fátima each year, where apparitions of the Blessed Virgin Mary to three shepherd children reportedly took place in 1917. The Sanctuary of Fátima is one of the largest Roman Catholic shrines in the world. The Portuguese government continues to promote and develop new tourist destinations, such as the Douro Valley, the island of Porto Santo, and Alentejo. Lisbon is the 16th European city which attracts the most tourists (with seven million tourists occupying the city's hotels in 2006, a number that grew 11.8% compared to previous year). Lisbon in recent years surpassed the Algarve as the leading tourist region in Portugal. Porto and Northern Portugal, especially the urban areas north of Douro River valley, was the tourist destination which grew most (11.9%) in 2006, surpassing Madeira (in 2010), as the third most visited destination.[citation needed]\n",
      "\n",
      "=====================================\n"
     ]
    }
   ],
   "source": [
    "analyze_question_faiss(0, top_k)"
   ]
  },
  {
   "cell_type": "code",
   "execution_count": 20,
   "metadata": {},
   "outputs": [
    {
     "name": "stdout",
     "output_type": "stream",
     "text": [
      "\n",
      "Question: What condition did Frédéric describe the piano that arrived to him through many dangerous obstacles?\n",
      "Correct answer IDX: 244\n",
      "\n",
      "Answer 1 IDX: 217\n",
      "Score: 35.46853256225586\n",
      "Text: Frédéric François Chopin (/ˈʃoʊpæn/; French pronunciation: ​[fʁe.de.ʁik fʁɑ̃.swa ʃɔ.pɛ̃]; 22 February or 1 March 1810 – 17 October 1849), born Fryderyk Franciszek Chopin,[n 1] was a Polish and French (by citizenship and birth of father) composer and a virtuoso pianist of the Romantic era, who wrote primarily for the solo piano. He gained and has maintained renown worldwide as one of the leading musicians of his era, whose \"poetic genius was based on a professional technique that was without equal in his generation.\" Chopin was born in what was then the Duchy of Warsaw, and grew up in Warsaw, which after 1815 became part of Congress Poland. A child prodigy, he completed his musical education and composed his earlier works in Warsaw before leaving Poland at the age of 20, less than a month before the outbreak of the November 1830 Uprising.\n",
      "\n",
      "Answer 2 IDX: 244\n",
      "Score: 36.217437744140625\n",
      "Text: On 3 December, Chopin complained about his bad health and the incompetence of the doctors in Majorca: \"Three doctors have visited me ... The first said I was dead; the second said I was dying; and the third said I was about to die.\" He also had problems having his Pleyel piano sent to him. It finally arrived from Paris in December. Chopin wrote to Pleyel in January 1839: \"I am sending you my Preludes [(Op. 28)]. I finished them on your little piano, which arrived in the best possible condition in spite of the sea, the bad weather and the Palma customs.\" Chopin was also able to undertake work on his Ballade No. 2, Op. 38; two Polonaises, Op. 40; and the Scherzo No. 3, Op. 39.\n",
      "\n",
      "Answer 3 IDX: 296\n",
      "Score: 36.8963508605957\n",
      "Text: Jones comments that \"Chopin's unique position as a composer, despite the fact that virtually everything he wrote was for the piano, has rarely been questioned.\" He also notes that Chopin was fortunate to arrive in Paris in 1831—\"the artistic environment, the publishers who were willing to print his music, the wealthy and aristocratic who paid what Chopin asked for their lessons\"—and these factors, as well as his musical genius, also fuelled his contemporary and later reputation. While his illness and his love-affairs conform to some of the stereotypes of romanticism, the rarity of his public recitals (as opposed to performances at fashionable Paris soirées) led Arthur Hutchings to suggest that \"his lack of Byronic flamboyance [and] his aristocratic reclusiveness make him exceptional\" among his romantic contemporaries, such as Liszt and Henri Herz.\n",
      "\n",
      "Answer 4 IDX: 248\n",
      "Score: 39.44636917114258\n",
      "Text: From 1842 onwards, Chopin showed signs of serious illness. After a solo recital in Paris on 21 February 1842, he wrote to Grzymała: \"I have to lie in bed all day long, my mouth and tonsils are aching so much.\" He was forced by illness to decline a written invitation from Alkan to participate in a repeat performance of the Beethoven Seventh Symphony arrangement at Erard's on 1 March 1843. Late in 1844, Charles Hallé visited Chopin and found him \"hardly able to move, bent like a half-opened penknife and evidently in great pain\", although his spirits returned when he started to play the piano for his visitor. Chopin's health continued to deteriorate, particularly from this time onwards. Modern research suggests that apart from any other illnesses, he may also have suffered from temporal lobe epilepsy.\n",
      "\n",
      "Answer 5 IDX: 232\n",
      "Score: 40.18552017211914\n",
      "Text: Chopin's successes as a composer and performer opened the door to western Europe for him, and on 2 November 1830, he set out, in the words of Zdzisław Jachimecki, \"into the wide world, with no very clearly defined aim, forever.\" With Woyciechowski, he headed for Austria, intending to go on to Italy. Later that month, in Warsaw, the November 1830 Uprising broke out, and Woyciechowski returned to Poland to enlist. Chopin, now alone in Vienna, was nostalgic for his homeland, and wrote to a friend, \"I curse the moment of my departure.\" When in September 1831 he learned, while travelling from Vienna to Paris, that the uprising had been crushed, he expressed his anguish in the pages of his private journal: \"Oh God! ... You are there, and yet you do not take vengeance!\" Jachimecki ascribes to these events the composer's maturing \"into an inspired national bard who intuited the past, present and future of his native Poland.\"\n",
      "\n",
      "=====================================\n",
      "\n",
      "Question: When did Beyoncé release her first solo album?\n",
      "Correct answer IDX: 65\n",
      "\n",
      "Answer 1 IDX: 80\n",
      "Score: 28.5174560546875\n",
      "Text: On February 6, 2016, one day before her performance at the Super Bowl, Beyoncé released a new single exclusively on music streaming service Tidal called \"Formation\".\n",
      "\n",
      "Answer 2 IDX: 56\n",
      "Score: 29.271516799926758\n",
      "Text: Following the disbandment of Destiny's Child in June 2005, she released her second solo album, B'Day (2006), which contained hits \"Déjà Vu\", \"Irreplaceable\", and \"Beautiful Liar\". Beyoncé also ventured into acting, with a Golden Globe-nominated performance in Dreamgirls (2006), and starring roles in The Pink Panther (2006) and Obsessed (2009). Her marriage to rapper Jay Z and portrayal of Etta James in Cadillac Records (2008) influenced her third album, I Am... Sasha Fierce (2008), which saw the birth of her alter-ego Sasha Fierce and earned a record-setting six Grammy Awards in 2010, including Song of the Year for \"Single Ladies (Put a Ring on It)\". Beyoncé took a hiatus from music in 2010 and took over management of her career; her fourth album 4 (2011) was subsequently mellower in tone, exploring 1970s funk, 1980s pop, and 1990s soul. Her critically acclaimed fifth studio album, Beyoncé (2013), was distinguished from previous releases by its experimental production and exploration of darker themes.\n",
      "\n",
      "Answer 3 IDX: 67\n",
      "Score: 30.471603393554688\n",
      "Text: Beyoncé's second solo album B'Day was released on September 5, 2006, in the US, to coincide with her twenty-fifth birthday. It sold 541,000 copies in its first week and debuted atop the Billboard 200, becoming Beyoncé's second consecutive number-one album in the United States. The album's lead single \"Déjà Vu\", featuring Jay Z, reached the top five on the Billboard Hot 100 chart. The second international single \"Irreplaceable\" was a commercial success worldwide, reaching number one in Australia, Hungary, Ireland, New Zealand and the United States. B'Day also produced three other singles; \"Ring the Alarm\", \"Get Me Bodied\", and \"Green Light\" (released in the United Kingdom only).\n",
      "\n",
      "Answer 4 IDX: 78\n",
      "Score: 30.855045318603516\n",
      "Text: On December 13, 2013, Beyoncé unexpectedly released her eponymous fifth studio album on the iTunes Store without any prior announcement or promotion. The album debuted atop the Billboard 200 chart, giving Beyoncé her fifth consecutive number-one album in the US. This made her the first woman in the chart's history to have her first five studio albums debut at number one. Beyoncé received critical acclaim and commercial success, selling one million digital copies worldwide in six days; The New York Times noted the album's unconventional, unexpected release as significant. Musically an electro-R&B album, it concerns darker themes previously unexplored in her work, such as \"bulimia, postnatal depression [and] the fears and insecurities of marriage and motherhood\". The single \"Drunk in Love\", featuring Jay Z, peaked at number two on the Billboard Hot 100 chart. In April 2014, after much speculation in the weeks before, Beyoncé and Jay Z officially announced their On the Run Tour. It served as the couple's first co-headlining stadium tour together. On August 24, 2014, she received the Video Vanguard Award at the 2014 MTV Video Music Awards. Knowles also took home three competitive awards: Best Video with a Social Message and Best Cinematography for \"Pretty Hurts\", as well as best collaboration for \"Drunk in Love\". In November, Forbes reported that Beyoncé was the top-earning woman in music for the second year in a row—earning $115 million in the year, more than double her earnings in 2013. Beyoncé was reissued with new material in three forms: as an extended play, a box set, as well as a full platinum edition.\n",
      "\n",
      "Answer 5 IDX: 65\n",
      "Score: 31.120330810546875\n",
      "Text: Beyoncé's first solo recording was a feature on Jay Z's \"'03 Bonnie & Clyde\" that was released in October 2002, peaking at number four on the U.S. Billboard Hot 100 chart. Her first solo album Dangerously in Love was released on June 24, 2003, after Michelle Williams and Kelly Rowland had released their solo efforts. The album sold 317,000 copies in its first week, debuted atop the Billboard 200, and has since sold 11 million copies worldwide. The album's lead single, \"Crazy in Love\", featuring Jay Z, became Beyoncé's first number-one single as a solo artist in the US. The single \"Baby Boy\" also reached number one, and singles, \"Me, Myself and I\" and \"Naughty Girl\", both reached the top-five. The album earned Beyoncé a then record-tying five awards at the 46th Annual Grammy Awards; Best Contemporary R&B Album, Best Female R&B Vocal Performance for \"Dangerously in Love 2\", Best R&B Song and Best Rap/Sung Collaboration for \"Crazy in Love\", and Best R&B Performance by a Duo or Group with Vocals for \"The Closer I Get to You\" with Luther Vandross.\n",
      "\n",
      "=====================================\n",
      "\n",
      "Question: Who was the first person to drive through The Queens-Midtown Tunnel?\n",
      "Correct answer IDX: 700\n",
      "\n",
      "Answer 1 IDX: 700\n",
      "Score: 28.665346145629883\n",
      "Text: Manhattan Island is linked to New York City's outer boroughs and New Jersey by several tunnels as well. The Lincoln Tunnel, which carries 120,000 vehicles a day under the Hudson River between New Jersey and Midtown Manhattan, is the busiest vehicular tunnel in the world. The tunnel was built instead of a bridge to allow unfettered passage of large passenger and cargo ships that sailed through New York Harbor and up the Hudson River to Manhattan's piers. The Holland Tunnel, connecting Lower Manhattan to Jersey City, New Jersey, was the world's first mechanically ventilated vehicular tunnel when it opened in 1927. The Queens-Midtown Tunnel, built to relieve congestion on the bridges connecting Manhattan with Queens and Brooklyn, was the largest non-federal project in its time when it was completed in 1940. President Franklin D. Roosevelt was the first person to drive through it. The Hugh L. Carey Tunnel runs underneath Battery Park and connects the Financial District at the southern tip of Manhattan to Red Hook in Brooklyn.\n",
      "\n",
      "Answer 2 IDX: 699\n",
      "Score: 39.364540100097656\n",
      "Text: The George Washington Bridge is the world's busiest motor vehicle bridge, connecting Manhattan to Bergen County, New Jersey. The Verrazano-Narrows Bridge is the longest suspension bridge in the Americas and one of the world's longest. The Brooklyn Bridge is an icon of the city itself. The towers of the Brooklyn Bridge are built of limestone, granite, and Rosendale cement, and their architectural style is neo-Gothic, with characteristic pointed arches above the passageways through the stone towers. This bridge was also the longest suspension bridge in the world from its opening until 1903, and is the first steel-wire suspension bridge.\n",
      "\n",
      "Answer 3 IDX: 607\n",
      "Score: 43.894065856933594\n",
      "Text: In 1898, the modern City of New York was formed with the consolidation of Brooklyn (until then a separate city), the County of New York (which then included parts of the Bronx), the County of Richmond, and the western portion of the County of Queens. The opening of the subway in 1904, first built as separate private systems, helped bind the new city together. Throughout the first half of the 20th century, the city became a world center for industry, commerce, and communication.\n",
      "\n",
      "Answer 4 IDX: 604\n",
      "Score: 44.345523834228516\n",
      "Text: Several prominent American literary figures lived in New York during the 1830s and 1840s, including William Cullen Bryant, Washington Irving, Herman Melville, Rufus Wilmot Griswold, John Keese, Nathaniel Parker Willis, and Edgar Allan Poe. Public-minded members of the contemporaneous business elite lobbied for the establishment of Central Park, which in 1857 became the first landscaped park in an American city.\n",
      "\n",
      "Answer 5 IDX: 715\n",
      "Score: 44.57748031616211\n",
      "Text: New York City's commuter rail network is the largest in North America. The rail network, connecting New York City to its suburbs, consists of the Long Island Rail Road, Metro-North Railroad, and New Jersey Transit. The combined systems converge at Grand Central Terminal and Pennsylvania Station and contain more than 250 stations and 20 rail lines. In Queens, the elevated AirTrain people mover system connects JFK International Airport to the New York City Subway and the Long Island Rail Road; a separate AirTrain system is planned alongside the Grand Central Parkway to connect LaGuardia Airport to these transit systems. For intercity rail, New York City is served by Amtrak, whose busiest station by a significant margin is Pennsylvania Station on the West Side of Manhattan, from which Amtrak provides connections to Boston, Philadelphia, and Washington, D.C. along the Northeast Corridor, as well as long-distance train service to other North American cities.\n",
      "\n",
      "=====================================\n",
      "\n",
      "Question: What public figure defended New York in January 2016?\n",
      "Correct answer IDX: 616\n",
      "\n",
      "Answer 1 IDX: 616\n",
      "Score: 36.410972595214844\n",
      "Text: When one Republican presidential candidate for the 2016 election ridiculed the liberalism of \"New York values\" in January 2016, Donald Trump, leading in the polls, vigorously defended his city. The National Review, a conservative magazine published in the city since its founding by William F. Buckley, Jr. in 1955, commented, \"By hearkening back to New York's heart after 9/11, for a moment Trump transcended politics. How easily we forget, but for weeks after the terror attacks, New York was America.\"\n",
      "\n",
      "Answer 2 IDX: 580\n",
      "Score: 40.70248031616211\n",
      "Text: The AP reported that \"The state-controlled media has largely ignored the issue, apparently under the propaganda bureau's instructions. Parents and volunteers who have questioned authorities have been detained and threatened.\"\n",
      "\n",
      "Answer 3 IDX: 647\n",
      "Score: 41.632354736328125\n",
      "Text: The New York metropolitan area is home to a self-identifying gay and bisexual community estimated at 568,903 individuals, the largest in the United States and one of the world's largest. Same-sex marriages in New York were legalized on June 24, 2011 and were authorized to take place beginning 30 days thereafter.\n",
      "\n",
      "Answer 4 IDX: 726\n",
      "Score: 44.591896057128906\n",
      "Text: New York City has been a metropolitan municipality with a mayor-council form of government since its consolidation in 1898. The government of New York is more centralized than that of most other U.S. cities. In New York City, the city government is responsible for public education, correctional institutions, public safety, recreational facilities, sanitation, water supply, and welfare services.\n",
      "\n",
      "Answer 5 IDX: 594\n",
      "Score: 45.788116455078125\n",
      "Text: In 1664, Peter Stuyvesant, the Director-General of the colony of New Netherland, surrendered New Amsterdam to the English without bloodshed. The English promptly renamed the fledgling city \"New York\" after the Duke of York (later King James II).\n",
      "\n",
      "=====================================\n",
      "\n",
      "Question: What was used as a communications aid in the relief efforts?\n",
      "Correct answer IDX: 557\n",
      "\n",
      "Answer 1 IDX: 522\n",
      "Score: 37.96941375732422\n",
      "Text: Immediately after the earthquake event, mobile and terrestrial telecommunications were cut to the affected and surrounding area, with all internet capabilities cut to the Sichuan area too. Elements of telecommunications were restored by the government piece by piece over the next number of months as the situation in the Sichuan province gradually improved. Eventually, a handful of major news and media websites were made accessible online in the region, albeit with dramatically pared back webpages.\n",
      "\n",
      "Answer 2 IDX: 574\n",
      "Score: 38.88700866699219\n",
      "Text: Because of the magnitude of the quake, and the media attention on China, foreign nations and organizations immediately responded to the disaster by offering condolences and assistance. On May 14, UNICEF reported that China formally requested the support of the international community to respond to the needs of affected families.\n",
      "\n",
      "Answer 3 IDX: 556\n",
      "Score: 39.468955993652344\n",
      "Text: On May 16, rescue groups from South Korea, Japan, Singapore, Russia and Taiwan arrived to join the rescue effort. The United States shared some of its satellite images of the quake-stricken areas with Chinese authorities. During the weekend, the US sent into China two U.S. Air Force C-17's carrying supplies, which included tents and generators. Xinhua reported 135,000 Chinese troops and medics were involved in the rescue effort across 58 counties and cities.\n",
      "\n",
      "Answer 4 IDX: 559\n",
      "Score: 40.13347625732422\n",
      "Text: Following the earthquake, donations were made by people from all over mainland China, with booths set up in schools, at banks, and around gas stations. People also donated blood, resulting in according to Xinhua long line-ups in most major Chinese cities. Many donated through text messaging on mobile phones to accounts set up by China Unicom and China Mobile By May 16, the Chinese government had allocated a total of $772 million for earthquake relief so far, up sharply from $159 million from May 14.\n",
      "\n",
      "Answer 5 IDX: 557\n",
      "Score: 41.44219207763672\n",
      "Text: The Internet was extensively used for passing information to aid rescue and recovery efforts. For example, the official news agency Xinhua set up an online rescue request center in order to find the blind spots of disaster recovery. After knowing that rescue helicopters had trouble landing into the epicenter area in Wenchuan, a student proposed a landing spot online and it was chosen as the first touchdown place for the helicopters[not in citation given]. Volunteers also set up several websites to help store contact information for victims and evacuees. On May 31, a rescue helicopter carrying earthquake survivors and crew members crashed in fog and turbulence in Wenchuan county. No-one survived.\n",
      "\n",
      "=====================================\n"
     ]
    }
   ],
   "source": [
    "for idx in random_indices:\n",
    "    analyze_question_faiss(idx)"
   ]
  },
  {
   "cell_type": "markdown",
   "metadata": {},
   "source": [
    "#### Calculate metrics (retrieval only)"
   ]
  },
  {
   "cell_type": "code",
   "execution_count": 21,
   "metadata": {},
   "outputs": [],
   "source": [
    "similarity_scores = model.similarity(questions_emb, answers_emb)\n",
    "\n",
    "_, retrieved_answers_cosine = torch.topk(similarity_scores, k=top_k)\n",
    "retrieved_answers_cosine = retrieved_answers_cosine.tolist()"
   ]
  },
  {
   "cell_type": "code",
   "execution_count": 22,
   "metadata": {},
   "outputs": [
    {
     "name": "stderr",
     "output_type": "stream",
     "text": [
      "100%|██████████| 10000/10000 [00:09<00:00, 1097.58it/s]\n"
     ]
    }
   ],
   "source": [
    "retrieved_answers_faiss = []\n",
    "\n",
    "for i in tqdm(range(0, len(dataset))):\n",
    "    question_emb = questions_emb[i].detach().cpu().numpy()\n",
    "\n",
    "    _, samples = answers_emb_dataset.get_nearest_examples(\n",
    "        \"answer_emb\", question_emb, k=top_k\n",
    "    )\n",
    "\n",
    "    retrieved_answers_faiss.append(samples[\"idx\"])"
   ]
  },
  {
   "cell_type": "code",
   "execution_count": 23,
   "metadata": {},
   "outputs": [],
   "source": [
    "from metrics import calc_recall, calc_mrr"
   ]
  },
  {
   "cell_type": "code",
   "execution_count": 24,
   "metadata": {},
   "outputs": [],
   "source": [
    "y_true = dataset[\"answer_map\"]"
   ]
  },
  {
   "cell_type": "code",
   "execution_count": 25,
   "metadata": {},
   "outputs": [
    {
     "name": "stdout",
     "output_type": "stream",
     "text": [
      "Recall@5 Cosine:  0.9423300644189855\n",
      "Recall@5 Faiss:  0.9247229096034981\n"
     ]
    }
   ],
   "source": [
    "recall_cosine = calc_recall(y_true, retrieved_answers_cosine, num_classes=len(unique_answers))\n",
    "\n",
    "recall_faiss = calc_recall(y_true, retrieved_answers_faiss, num_classes=len(unique_answers))\n",
    "\n",
    "print(f\"Recall@{top_k} Cosine: \", recall_cosine)\n",
    "print(f\"Recall@{top_k} Faiss: \", recall_faiss)"
   ]
  },
  {
   "cell_type": "code",
   "execution_count": 26,
   "metadata": {},
   "outputs": [
    {
     "name": "stdout",
     "output_type": "stream",
     "text": [
      "MRR Cosine:  0.8072366666666587\n",
      "MRR Faiss:  0.7656399999999914\n"
     ]
    }
   ],
   "source": [
    "mrr_cosine = calc_mrr(y_true, retrieved_answers_cosine)\n",
    "\n",
    "mrr_faiss = calc_mrr(y_true, retrieved_answers_faiss)\n",
    "\n",
    "print(f\"MRR Cosine: \", mrr_cosine)\n",
    "print(f\"MRR Faiss: \", mrr_faiss)"
   ]
  },
  {
   "cell_type": "markdown",
   "metadata": {},
   "source": [
    "## Re-ranking"
   ]
  },
  {
   "cell_type": "code",
   "execution_count": 27,
   "metadata": {},
   "outputs": [],
   "source": [
    "reranker = CrossEncoder('cross-encoder/ms-marco-MiniLM-L-6-v2')"
   ]
  },
  {
   "cell_type": "code",
   "execution_count": 60,
   "metadata": {},
   "outputs": [],
   "source": [
    "def print_rerank_results(\n",
    "    question_idx: int,\n",
    "    retriever_scores: torch.Tensor,\n",
    "    retriever_indices: torch.Tensor,\n",
    "    reranker_scores: torch.Tensor\n",
    "):\n",
    "    ranking_scores, ranking = torch.sort(reranker_scores, descending=True)\n",
    "\n",
    "    sorted_retriever_scores = retriever_scores[ranking]\n",
    "    sorted_retriever_indices = retriever_indices[ranking]\n",
    "    \n",
    "    print(\"\\nQuestion:\", dataset[\"question\"][question_idx])\n",
    "    print(f\"Correct answer IDX: {dataset['answer_map'][question_idx]}\")\n",
    "    print(\"Original order: \", retriever_indices.tolist())\n",
    "    print(\"Reranked order: \", sorted_retriever_indices.tolist())\n",
    "    print()\n",
    "\n",
    "    for (idx, retriever_score, reranker_score) in zip(sorted_retriever_indices, sorted_retriever_scores, ranking_scores):\n",
    "        print(f\"Answer IDX: {idx}\")\n",
    "        print(f\"Original score: {retriever_score.item()}\")\n",
    "        print(f\"Reranker score: {reranker_score.item()}\")\n",
    "        print(f\"Text: {unique_answers[idx]}\\n\")"
   ]
  },
  {
   "cell_type": "code",
   "execution_count": 61,
   "metadata": {},
   "outputs": [],
   "source": [
    "def analyze_question_with_rerank(question_idx):\n",
    "    question = dataset[\"question\"][question_idx]\n",
    "    question_emb = questions_emb[question_idx]\n",
    "\n",
    "    similarity_scores = model.similarity(question_emb, answers_emb)[0]\n",
    "\n",
    "    scores, indices = torch.topk(similarity_scores, k=top_k)\n",
    "\n",
    "    reranker_input = [\n",
    "        [question, unique_answers[idx]] for idx in indices\n",
    "    ]\n",
    "    reranker_scores = reranker.predict(reranker_input)\n",
    "    reranker_scores = torch.tensor(reranker_scores)\n",
    "\n",
    "    print_rerank_results(question_idx, scores, indices, reranker_scores)"
   ]
  },
  {
   "cell_type": "code",
   "execution_count": 62,
   "metadata": {},
   "outputs": [
    {
     "name": "stdout",
     "output_type": "stream",
     "text": [
      "\n",
      "Question: To whom did the Virgin Mary allegedly appear in 1858 in Lourdes France?\n",
      "Correct answer IDX: 0\n",
      "Original order:  [0, 589, 983, 38, 999]\n",
      "Reranked order:  [0, 983, 38, 589, 999]\n",
      "\n",
      "Answer IDX: 0\n",
      "Original score: 21.645755767822266\n",
      "Reranker score: 5.316110610961914\n",
      "Text: Architecturally, the school has a Catholic character. Atop the Main Building's gold dome is a golden statue of the Virgin Mary. Immediately in front of the Main Building and facing it, is a copper statue of Christ with arms upraised with the legend \"Venite Ad Me Omnes\". Next to the Main Building is the Basilica of the Sacred Heart. Immediately behind the basilica is the Grotto, a Marian place of prayer and reflection. It is a replica of the grotto at Lourdes, France where the Virgin Mary reputedly appeared to Saint Bernadette Soubirous in 1858. At the end of the main drive (and in a direct line that connects through 3 statues and the Gold Dome), is a simple, modern stone statue of Mary.\n",
      "\n",
      "Answer IDX: 983\n",
      "Original score: 15.784934043884277\n",
      "Reranker score: -7.337856292724609\n",
      "Text: Tourist hotspots in Portugal are Lisbon, Algarve, Madeira, Porto and the city of Coimbra, also, between 4-5 million religious pilgrims visit Fátima each year, where apparitions of the Blessed Virgin Mary to three shepherd children reportedly took place in 1917. The Sanctuary of Fátima is one of the largest Roman Catholic shrines in the world. The Portuguese government continues to promote and develop new tourist destinations, such as the Douro Valley, the island of Porto Santo, and Alentejo. Lisbon is the 16th European city which attracts the most tourists (with seven million tourists occupying the city's hotels in 2006, a number that grew 11.8% compared to previous year). Lisbon in recent years surpassed the Algarve as the leading tourist region in Portugal. Porto and Northern Portugal, especially the urban areas north of Douro River valley, was the tourist destination which grew most (11.9%) in 2006, surpassing Madeira (in 2010), as the third most visited destination.[citation needed]\n",
      "\n",
      "Answer IDX: 38\n",
      "Original score: 15.5897216796875\n",
      "Reranker score: -8.216191291809082\n",
      "Text: The University of Notre Dame du Lac (or simply Notre Dame /ˌnoʊtərˈdeɪm/ NOH-tər-DAYM) is a Catholic research university located adjacent to South Bend, Indiana, in the United States. In French, Notre Dame du Lac means \"Our Lady of the Lake\" and refers to the university's patron saint, the Virgin Mary. The main campus covers 1,250 acres in a suburban setting and it contains a number of recognizable landmarks, such as the Golden Dome, the \"Word of Life\" mural (commonly known as Touchdown Jesus), and the Basilica.\n",
      "\n",
      "Answer IDX: 589\n",
      "Original score: 16.991615295410156\n",
      "Reranker score: -10.24721908569336\n",
      "Text: The first documented visit by a European was in 1524 by Giovanni da Verrazzano, a Florentine explorer in the service of the French crown, who sailed his ship La Dauphine into New York Harbor. He claimed the area for France and named it \"Nouvelle Angoulême\" (New Angoulême).\n",
      "\n",
      "Answer IDX: 999\n",
      "Original score: 15.161377906799316\n",
      "Reranker score: -10.921128273010254\n",
      "Text: Within the white inescutcheon, the five quinas (small blue shields) with their five white bezants representing the five wounds of Christ (Portuguese: Cinco Chagas) when crucified and are popularly associated with the \"Miracle of Ourique\". The story associated with this miracle tells that before the Battle of Ourique (25 July 1139), an old hermit appeared before Count Afonso Henriques (future Afonso I) as a divine messenger. He foretold Afonso's victory and assured him that God was watching over him and his peers. The messenger advised him to walk away from his camp, alone, if he heard a nearby chapel bell tolling, in the following night. In doing so, he witnessed an apparition of Jesus on the cross. Ecstatic, Afonso heard Jesus promising victories for the coming battles, as well as God's wish to act through Afonso, and his descendants, in order to create an empire which would carry His name to unknown lands, thus choosing the Portuguese to perform great tasks.\n",
      "\n"
     ]
    }
   ],
   "source": [
    "analyze_question_with_rerank(0)"
   ]
  },
  {
   "cell_type": "code",
   "execution_count": 63,
   "metadata": {},
   "outputs": [],
   "source": [
    "def analyze_question_faiss_with_rerank(question_idx):\n",
    "    question = dataset[\"question\"][question_idx]\n",
    "    question_emb = questions_emb[question_idx].detach().cpu().numpy()\n",
    "\n",
    "    scores, samples = answers_emb_dataset.get_nearest_examples(\n",
    "        \"answer_emb\", question_emb, k=top_k\n",
    "    )\n",
    "\n",
    "    reranker_input = [\n",
    "        [question, unique_answers[idx]] for idx in samples[\"idx\"]\n",
    "    ]\n",
    "    reranker_scores = reranker.predict(reranker_input)\n",
    "\n",
    "    print_rerank_results(\n",
    "        question_idx, torch.tensor(scores),\n",
    "        torch.tensor(samples[\"idx\"]),\n",
    "        torch.tensor(reranker_scores)\n",
    "    )"
   ]
  },
  {
   "cell_type": "code",
   "execution_count": 64,
   "metadata": {},
   "outputs": [
    {
     "name": "stdout",
     "output_type": "stream",
     "text": [
      "\n",
      "Question: To whom did the Virgin Mary allegedly appear in 1858 in Lourdes France?\n",
      "Correct answer IDX: 0\n",
      "Original order:  [0, 589, 268, 38, 983]\n",
      "Reranked order:  [0, 983, 38, 589, 268]\n",
      "\n",
      "Answer IDX: 0\n",
      "Original score: 37.27167510986328\n",
      "Reranker score: 5.316109657287598\n",
      "Text: Architecturally, the school has a Catholic character. Atop the Main Building's gold dome is a golden statue of the Virgin Mary. Immediately in front of the Main Building and facing it, is a copper statue of Christ with arms upraised with the legend \"Venite Ad Me Omnes\". Next to the Main Building is the Basilica of the Sacred Heart. Immediately behind the basilica is the Grotto, a Marian place of prayer and reflection. It is a replica of the grotto at Lourdes, France where the Virgin Mary reputedly appeared to Saint Bernadette Soubirous in 1858. At the end of the main drive (and in a direct line that connects through 3 statues and the Gold Dome), is a simple, modern stone statue of Mary.\n",
      "\n",
      "Answer IDX: 983\n",
      "Original score: 48.75346374511719\n",
      "Reranker score: -7.3378586769104\n",
      "Text: Tourist hotspots in Portugal are Lisbon, Algarve, Madeira, Porto and the city of Coimbra, also, between 4-5 million religious pilgrims visit Fátima each year, where apparitions of the Blessed Virgin Mary to three shepherd children reportedly took place in 1917. The Sanctuary of Fátima is one of the largest Roman Catholic shrines in the world. The Portuguese government continues to promote and develop new tourist destinations, such as the Douro Valley, the island of Porto Santo, and Alentejo. Lisbon is the 16th European city which attracts the most tourists (with seven million tourists occupying the city's hotels in 2006, a number that grew 11.8% compared to previous year). Lisbon in recent years surpassed the Algarve as the leading tourist region in Portugal. Porto and Northern Portugal, especially the urban areas north of Douro River valley, was the tourist destination which grew most (11.9%) in 2006, surpassing Madeira (in 2010), as the third most visited destination.[citation needed]\n",
      "\n",
      "Answer IDX: 38\n",
      "Original score: 48.70299530029297\n",
      "Reranker score: -8.216191291809082\n",
      "Text: The University of Notre Dame du Lac (or simply Notre Dame /ˌnoʊtərˈdeɪm/ NOH-tər-DAYM) is a Catholic research university located adjacent to South Bend, Indiana, in the United States. In French, Notre Dame du Lac means \"Our Lady of the Lake\" and refers to the university's patron saint, the Virgin Mary. The main campus covers 1,250 acres in a suburban setting and it contains a number of recognizable landmarks, such as the Golden Dome, the \"Word of Life\" mural (commonly known as Touchdown Jesus), and the Basilica.\n",
      "\n",
      "Answer IDX: 589\n",
      "Original score: 45.78667449951172\n",
      "Reranker score: -10.24721908569336\n",
      "Text: The first documented visit by a European was in 1524 by Giovanni da Verrazzano, a Florentine explorer in the service of the French crown, who sailed his ship La Dauphine into New York Harbor. He claimed the area for France and named it \"Nouvelle Angoulême\" (New Angoulême).\n",
      "\n",
      "Answer IDX: 268\n",
      "Original score: 48.35457229614258\n",
      "Reranker score: -10.81999683380127\n",
      "Text: The funeral, held at the Church of the Madeleine in Paris, was delayed almost two weeks, until 30 October. Entrance was restricted to ticket holders as many people were expected to attend. Over 3,000 people arrived without invitations, from as far as London, Berlin and Vienna, and were excluded.\n",
      "\n"
     ]
    }
   ],
   "source": [
    "analyze_question_faiss_with_rerank(0)"
   ]
  },
  {
   "cell_type": "code",
   "execution_count": 67,
   "metadata": {},
   "outputs": [
    {
     "name": "stderr",
     "output_type": "stream",
     "text": [
      "100%|██████████| 10000/10000 [02:00<00:00, 82.65it/s]\n"
     ]
    }
   ],
   "source": [
    "reranker_answers_faiss = []\n",
    "\n",
    "for i, samples in tqdm(enumerate(retrieved_answers_faiss), total=len(dataset)):\n",
    "    question = dataset[\"question\"][i]\n",
    "\n",
    "    reranker_input = [\n",
    "        [question, unique_answers[idx]] for idx in samples\n",
    "    ]\n",
    "    reranker_scores = reranker.predict(reranker_input)\n",
    "\n",
    "    ranking_scores, ranking = torch.sort(torch.tensor(reranker_scores), descending=True)\n",
    "\n",
    "    retrives_indices = torch.tensor(samples)[ranking].tolist()\n",
    "\n",
    "    reranker_answers_faiss.append(retrives_indices)\n",
    "\n"
   ]
  },
  {
   "cell_type": "code",
   "execution_count": 68,
   "metadata": {},
   "outputs": [
    {
     "name": "stderr",
     "output_type": "stream",
     "text": [
      "100%|██████████| 10000/10000 [01:51<00:00, 90.01it/s]\n"
     ]
    }
   ],
   "source": [
    "reranker_answers_cosine = []\n",
    "\n",
    "for i, samples in tqdm(enumerate(retrieved_answers_cosine), total=len(dataset)):\n",
    "    question = dataset[\"question\"][i]\n",
    "\n",
    "    reranker_input = [\n",
    "        [question, unique_answers[idx]] for idx in samples\n",
    "    ]\n",
    "    reranker_scores = reranker.predict(reranker_input)\n",
    "\n",
    "    ranking_scores, ranking = torch.sort(torch.tensor(reranker_scores), descending=True)\n",
    "\n",
    "    retrives_indices = torch.tensor(samples)[ranking].tolist()\n",
    "\n",
    "    reranker_answers_cosine.append(retrives_indices)\n"
   ]
  },
  {
   "cell_type": "code",
   "execution_count": 69,
   "metadata": {},
   "outputs": [
    {
     "name": "stdout",
     "output_type": "stream",
     "text": [
      "MRR@5 Retriever Cosine: 0.8072366666666587\n",
      "MRR@5 Retriever Faiss: 0.7656399999999914\n",
      "MRR@5 Reranker Cosine: 0.8697149999999981\n",
      "MRR@5 Reranker Faiss: 0.8555566666666645\n"
     ]
    }
   ],
   "source": [
    "print(f'MRR@5 Retriever Cosine: {calc_mrr(y_true, retrieved_answers_cosine)}')\n",
    "print(f'MRR@5 Retriever Faiss: {calc_mrr(y_true, retrieved_answers_faiss)}')\n",
    "print(f'MRR@5 Reranker Cosine: {calc_mrr(y_true, reranker_answers_cosine)}')\n",
    "print(f'MRR@5 Reranker Faiss: {calc_mrr(y_true, reranker_answers_faiss)}')"
   ]
  },
  {
   "cell_type": "markdown",
   "metadata": {},
   "source": [
    "# Part 2 RAG"
   ]
  },
  {
   "cell_type": "code",
   "execution_count": 71,
   "metadata": {},
   "outputs": [
    {
     "data": {
      "text/plain": [
       "Dataset({\n",
       "    features: ['text', 'label'],\n",
       "    num_rows: 25000\n",
       "})"
      ]
     },
     "execution_count": 71,
     "metadata": {},
     "output_type": "execute_result"
    }
   ],
   "source": [
    "dataset = load_dataset(\"stanfordnlp/imdb\")['train']\n",
    "dataset"
   ]
  },
  {
   "cell_type": "code",
   "execution_count": 72,
   "metadata": {},
   "outputs": [
    {
     "name": "stderr",
     "output_type": "stream",
     "text": [
      "100%|██████████| 25/25 [00:00<00:00, 311.20it/s]\n"
     ]
    }
   ],
   "source": [
    "# encode all the texts and add faiss index\n",
    "\n",
    "texts = dataset['text']\n",
    "\n",
    "texts_emb = model.encode(texts, convert_to_tensor=True)\n",
    "\n",
    "texts_emb_dict = {\n",
    "    \"text_emb\": [emb.detach().cpu().numpy() for emb in texts_emb],\n",
    "    \"idx\": [i for i, _ in enumerate(texts)],\n",
    "}\n",
    "\n",
    "texts_emb_dataset = Dataset.from_dict(texts_emb_dict)\n",
    "\n",
    "\n",
    "texts_emb_dataset.add_faiss_index(column=\"text_emb\")\n",
    "\n",
    "\n",
    "import pickle\n",
    "\n",
    "with open(\"faiss_index.pkl\", \"wb\") as f:\n",
    "    pickle.dump(texts_emb_dataset, f)"
   ]
  },
  {
   "cell_type": "code",
   "execution_count": 89,
   "metadata": {},
   "outputs": [],
   "source": [
    "import pickle\n",
    "\n",
    "with open(\"faiss_index.pkl\", \"rb\") as f:\n",
    "    texts_emb_dataset = pickle.load(f)\n"
   ]
  },
  {
   "cell_type": "code",
   "execution_count": 95,
   "metadata": {},
   "outputs": [],
   "source": [
    "def get_top_k_retrieved_texts(question, top_k_ret=25, top_k_rerank=5):\n",
    "    question_emb = model.encode(question, convert_to_tensor=True).detach().cpu().numpy()\n",
    "\n",
    "    scores, samples = texts_emb_dataset.get_nearest_examples(\n",
    "        \"text_emb\", question_emb, k=top_k_ret\n",
    "    )\n",
    "\n",
    "    reranker_input = [\n",
    "        [question, texts[idx]] for idx in samples[\"idx\"]\n",
    "    ]\n",
    "\n",
    "    reranker_scores = reranker.predict(reranker_input)\n",
    "\n",
    "    ranking_scores, ranking = torch.sort(torch.tensor(reranker_scores), descending=True)\n",
    "\n",
    "    retrives_indices = torch.tensor(samples[\"idx\"])[ranking].tolist()\n",
    "\n",
    "    return retrives_indices[:top_k_rerank]"
   ]
  },
  {
   "cell_type": "code",
   "execution_count": 96,
   "metadata": {},
   "outputs": [],
   "source": [
    "from dotenv import load_dotenv\n",
    "import os\n",
    "\n",
    "load_dotenv()\n",
    "\n",
    "api_key = os.getenv(\"CLARIN_KEY\")"
   ]
  },
  {
   "cell_type": "code",
   "execution_count": 168,
   "metadata": {},
   "outputs": [],
   "source": [
    "SYSTEM_MSG_RAG_SHORT =  \"\"\"\n",
    "    You are a helpful assistant. Your job will be to answer questions based on the given context and not your internal knowledge.\n",
    "\"\"\"\n",
    "\n",
    "SYSTEM_MSG = \"\"\"\n",
    "    You are a helpful assistant. Your job will be to answer questions\n",
    "\"\"\"\n",
    "\n",
    "QUERY_INTRO = \"\"\"\n",
    "    Answer the following QUERY based on your internal knowledge.\n",
    "\n",
    "    QUERY: {query}\n",
    "\n",
    "    ANSWER:\n",
    "\"\"\"\n",
    "\n",
    "QUERY_INTRO_RAG = \"\"\"\n",
    "    Answer the following QUERY based on the given CONTEXT below, plese provide ANSWER to the folowing QUERY.\n",
    "\n",
    "    QUERY: {query}\n",
    "\n",
    "    CONTEXT: {context}\n",
    "\n",
    "    ANSWER:\n",
    "\"\"\"\n"
   ]
  },
  {
   "cell_type": "code",
   "execution_count": 169,
   "metadata": {},
   "outputs": [],
   "source": [
    "from golemai.nlp.llm_resp_gen import LLMRespGen\n",
    "import textwrap\n",
    "\n",
    "TEXT_WRAP_WIDTH = 120"
   ]
  },
  {
   "cell_type": "code",
   "execution_count": 170,
   "metadata": {},
   "outputs": [
    {
     "name": "stderr",
     "output_type": "stream",
     "text": [
      "Model type is 'api'. Setting generation config for API.\n",
      "Model type is 'api'. Setting generation config for API.\n"
     ]
    }
   ],
   "source": [
    "llm_rag = LLMRespGen(\n",
    "    id_col='id',\n",
    "    model_type='api',\n",
    "    system_msg=SYSTEM_MSG_RAG_SHORT,\n",
    "    prompt_template=QUERY_INTRO_RAG,\n",
    "    batch_size=1,\n",
    "    api_url='https://services.clarin-pl.eu/api/v1/oapi',\n",
    "    api_key=api_key,\n",
    ").set_generation_config(\n",
    "    model_id='mixtral-8x22B'\n",
    ")\n",
    "\n",
    "\n",
    "llm_no_rag = LLMRespGen(\n",
    "    id_col='id',\n",
    "    model_type='api',\n",
    "    system_msg=SYSTEM_MSG,\n",
    "    prompt_template=QUERY_INTRO,\n",
    "    batch_size=1,\n",
    "    api_url='https://services.clarin-pl.eu/api/v1/oapi',\n",
    "    api_key=api_key,\n",
    ").set_generation_config(\n",
    "    model_id='mixtral-8x22B'\n",
    ")"
   ]
  },
  {
   "cell_type": "code",
   "execution_count": 192,
   "metadata": {},
   "outputs": [],
   "source": [
    "def generate_response_no_rag(QUERY, verbose=False):\n",
    "    prompts = llm_no_rag.prepare_prompt(\n",
    "        query=QUERY,\n",
    "    )\n",
    "\n",
    "    if verbose:\n",
    "        print(\"\\n\".join(textwrap.wrap(prompts, width=TEXT_WRAP_WIDTH)))\n",
    "        print()\n",
    "\n",
    "    result = llm_no_rag._generate_llm_response(\n",
    "        inputs=prompts,\n",
    "    )\n",
    "\n",
    "    if verbose:\n",
    "        print(\"\\n\".join(textwrap.wrap(result, width=TEXT_WRAP_WIDTH)))\n",
    "\n",
    "    return result\n",
    "\n",
    "\n",
    "def generate_response_rag(QUERY, top_k_ret=25, top_k_rerank=5, verbose=False):\n",
    "    top_k_retrieved_texts = get_top_k_retrieved_texts(QUERY, top_k_ret, top_k_rerank)\n",
    "\n",
    "    context = \"\\n\".join([f\"Comment [{i}]: {texts[idx]}\" for i, idx in enumerate(top_k_retrieved_texts)])\n",
    "\n",
    "    prompts = llm_rag.prepare_prompt(\n",
    "        context=context,\n",
    "        query=QUERY,\n",
    "    )\n",
    "\n",
    "    if verbose:\n",
    "        print(\"\\n\".join(textwrap.wrap(prompts, width=TEXT_WRAP_WIDTH)))\n",
    "        print()\n",
    "\n",
    "    result = llm_rag._generate_llm_response(\n",
    "        inputs=prompts,\n",
    "    )\n",
    "\n",
    "    if verbose:\n",
    "        print(\"\\n\".join(textwrap.wrap(result, width=TEXT_WRAP_WIDTH)))\n",
    "\n",
    "    return result\n",
    "\n"
   ]
  },
  {
   "cell_type": "code",
   "execution_count": 193,
   "metadata": {},
   "outputs": [],
   "source": [
    "QUERY = \"Who is the main character in the movie Titanic?\""
   ]
  },
  {
   "cell_type": "code",
   "execution_count": 194,
   "metadata": {},
   "outputs": [
    {
     "name": "stdout",
     "output_type": "stream",
     "text": [
      "     Answer the following QUERY based on your internal knowledge.      QUERY: Who is the main character in the movie\n",
      "Titanic?      ANSWER:\n",
      "\n",
      " The main character in the movie Titanic is Jack Dawson, portrayed by Leonardo DiCaprio. However, the movie also has a\n",
      "strong focus on Rose DeWitt Bukater, played by Kate Winslet. The story revolves around their relationship as they meet\n",
      "on the ill-fated voyage of the RMS Titanic.\n"
     ]
    }
   ],
   "source": [
    "result = generate_response_no_rag(QUERY, verbose=True)"
   ]
  },
  {
   "cell_type": "code",
   "execution_count": 195,
   "metadata": {},
   "outputs": [
    {
     "name": "stdout",
     "output_type": "stream",
     "text": [
      "     Answer the following QUERY based on the given CONTEXT below, plese provide ANSWER to the folowing QUERY.\n",
      "QUERY: Who is the main character in the movie Titanic?      CONTEXT: Comment [0]: I think James Cameron might be\n",
      "becoming my favorite director because this is my second review of his movies. Anyway, everyone remembers the RMS\n",
      "Titanic. It was big, fast, and \"unsinkable\"... until April 1912. It was all over the news and one of the biggest\n",
      "tragedies ever. Well James Cameron decided to make a movie out of it but star two fictional characters to be in the\n",
      "spotlight instead of the ship. Well, onto the main review but let me remind you that this is all opinion and zero fact\n",
      "and the only fact that will be present is an event from the film.<br /><br />So our two main characters are Jack\n",
      "(Leonardo DiCaprio) and Rose (Kate Winslet). They're not annoying too much but watch this and you'll find out why they\n",
      "could become annoying ( http://tinyurl.com/ojhoyn ). The main villain I guess is bad luck, fate, hand of God (no\n",
      "blasphemy intended), or just plain Caledon Hockley (Billy Zane). Combine all of the above and what do you get?! Oh yes!\n",
      "We get a love story on a sinking boat. The supporting characters are the following: My personal favorite, Mr. Andrews\n",
      "(Victor Garber)(idk he was so nice), Lovejoy(David Warner), Murdoch(Ewan Stewart), Lightoller (Jonathan Phillips),\n",
      "Captain Smith(Bernard Hill), Molly Brown(Kathy Bates), and many more. We also got the present day treasure hunter, Brock\n",
      "Lovett (Bill Paxton). They add something to the story, something good. The action in here is awesome, especially in the\n",
      "second half, the drama as also good. In the end you can have your eyes dropping rainstorms or silent tears. The story is\n",
      "simple and it works. A treasure hunter seeks the Heart of the Ocean and instead finds a drawing of a woman wearing the\n",
      "said diamond. She calls and tells her tale on the RMS Titanic. Two lovers separated by social class and ultimately, the\n",
      "fate of the ship. Everything about the story works and there are very few flaws. I give Titanic, an 86% awesome Comment\n",
      "[1]: The tragedy of the doomed ship Titanic has inspired many books and movies. The battle between nature and technology\n",
      "always caught man's imagination. The latest film concerning this tragedy in the Atlantic Ocean was written and directed\n",
      "by famous action movie filmmaker James Cameron. The story of \"Titanic\" involves two fictional characters (Leonardo\n",
      "DiCaprio and Kate Winslet) from different backgrounds (one is a hobo-artist, the other is an aristocrat) and how their\n",
      "love triumphs over societal barriers and the tragedy of a sinking ship that they happen to be on.<br /><br />First of\n",
      "all, although using a historical name, this movie had little regard to history. The plot was built around two fictional\n",
      "lovers, French diamond, and treasure hunters. The deaths of over a thousand of people on the greatest luxury ship of its\n",
      "time became a mere background. Many historical facts were simply forgotten. Where was the radio operator that ignored\n",
      "the iceberg warnings? Why was there no mention of the ship that was only 5 miles away from the Titanic but did not come\n",
      "to the rescue because its captain failed to identify the distress signal? Omitting these facts is an insult to the\n",
      "tragedy. And what was the point of flavoring this historical disaster with fictional cheesy romance when the story is\n",
      "already as sad as it is.<br /><br />The overall plot was rather shallow; rich equals greed and corruption, poverty\n",
      "equals compassion and heroism. It is very ironic to spend $200 million to make a movie about how money corrupts. There\n",
      "was absolutely no human side shown in anti-heroes. It seemed like Billy Zane was playing a part of the devil. Casting\n",
      "was also very poor. If DiCaprio was 2 inches shorter than Winslet, you could swear she was his baby-sitter. The length\n",
      "of the movie was unnecessarily stretched to over 3 hours. First hour and the half was wasted on establishing the\n",
      "relationships between the characters that were known to audience long before they went to theater and the dialogue that\n",
      "was used to do so made it even worse. Hearing corny pick up lines such as \"I see you\" and \"This is my side of the ship\"\n",
      "generated more pain than the screams of drowning people. Also, jokes were too abundant and rather lame.<br /><br\n",
      "/>\"Titanic\" did involve some moving scenes such as the part when the musicians were playing while the ship was sinking\n",
      "but they were no way near anything original. The best thing about this film were its special effects, and that is the\n",
      "only thing that truly deserved an award.<br /><br />Although this film lacked artistical value in overall sense, the\n",
      "public could not resist a sentimental story starring Romeo (DiCaprio), and so the movie became a success. Now it is safe\n",
      "to say that the industry will be less hesitant to invest large amounts of money in a single motion picture, so it seems\n",
      "that \"Titanic\" did achieve something after all. Comment [2]: Titanic is a long but well made tragic adventure love story\n",
      "that takes place during the ill-fated voyage on the unsinkable ship. Writer/Director James Cameron has done a great job\n",
      "of making this movie about a fictional love story between two very different people and combining that with the real\n",
      "event of the Titanic that sunk after hitting an iceberg on April 15, 1912 claiming thousands of lives who perished in\n",
      "the icy freeing waters of the North Atlantic. The two leads in the film are great in their roles including Leonardo\n",
      "DiCaprio and Kate Winslet. They make for a good on-screen couple. DiCpario and Winslet also had genuine chemistry\n",
      "together which made the romance that eventually blossoms between them that much more believable. They both showed real\n",
      "talent when this one came out and both of them have continued to show just that in their most recently films as well.\n",
      "The rest of the supporting cast including Billy Zane, Kathy Bates, Frances Fisher, Jonathan Hyde, and Bill Paxton in a\n",
      "small role are equally impressive as their characters who help bring them to life in this film. The love story, the\n",
      "action, suspense, and the special effects are magnificent done especially for that time. The horror of the situation the\n",
      "characters were in felt so real because it really happened making you want most of them to survive this life and death\n",
      "situation. The pacing was a little slow at times and it was a little long but the rest of the movie made up for it's few\n",
      "flaws. Titanic makes for a great date movie which is sure to make some girls cry almost every time they watch it. The\n",
      "fact that this really happened definitely added to the movie making you feel sorry for all the lives lost when the\n",
      "Titanic sunk into the Atlantic after hitting an iceberg. Overall Titanic is a tragic heartbreaking story about two\n",
      "people who fall in love while on the ill-fated ship thats brought to life by the exceptional performances from the cast\n",
      "especially DiCaprio and Winslet who definitely make this movie worth the time to watch. Comment [3]: James Cameron's\n",
      "'Titanic' is essentially a romantic adventure with visual grandeur and magnificence, a timeless tragic love story set\n",
      "against the background of this major historical event... It's an astonishing movie that exemplifies hope, love and\n",
      "humanity... <br /><br />Leonardo DiCaprio is terrific on screen with big charisma... Conveying passion, trust,\n",
      "insouciance and ingenuity, he's a free-spirited wanderer with artistic pretensions, and a zest for life... <br /><br\n",
      "/>Kate Winslet is absolutely lovely as the confused upper-class teen engaged to a nasty rich guy who finds herself, one\n",
      "night, plunged to the depths of despair...<br /><br />Billy Zane is an arrogant racist, abusive and ultra rich who would\n",
      "lie, cheat, steal, bribe with money or even use an innocent young child to escape defeat... He keeps a 56 carat blue\n",
      "diamond worn by Louis XVI...<br /><br />Kathy Bates is the legendary unsinkable Molly Brown, the richest woman in\n",
      "Denver, who is a lot less uptight than the other rich folk on the ship...<br /><br />Frances Fisheris is the impecunious\n",
      "cold snobbish mother who, deathly afraid of losing her social stature, forces her daughter to become engaged to marry a\n",
      "rich, supercilious snob...<br /><br />Victor Garber is the master shipbuilder, the real-life character who attempts to\n",
      "fix time, to measure it, in a sense, to make it into history... <br /><br />Jonathan Hyde is the White Star Chairman who\n",
      "wants the Titanic to break the Trans-Atlantic speed record, in spite of warnings that icebergs may have floated into the\n",
      "hazardous northern crossing...<br /><br />Bill Paxton is the opportunistic undersea explorer in search for a very rare\n",
      "diamond called the \"Heart of the Ocean.\" <br /><br />Gloria Stuart is the 101-year old woman who reveals a never-before\n",
      "told love story... The nightmare, the horror and the shock are imprinted upon her deeply lined face... <br /><br\n",
      "/>'Titanic' is loaded with luminous photography and sweeping visuals as the footage of the shipwrecked Ocean liner lying\n",
      "motionless on the ocean floor; the incredible transformation of the bow of the sunken 'Titanic' that takes the viewer\n",
      "back to 1912, revealing the meticulously re-created interiors; the first sight of the Titanic steamed steadily toward\n",
      "her date with destiny; the Titanic, leaving the Southampton dock, and some dolphins appear jumping, racing along in\n",
      "front of the luxurious ship; DeCaprio and Winslet flying at the ship's front rail in a gorgeous magic moment; the\n",
      "intertwining of past and present as Jack was drawing Rose on his paper, the camera zooms closely on young Rose's eye,\n",
      "only to transform its shape into Gloria Stuart's aged eye...<br /><br />Chilling scenes: Titanic's inevitable collision\n",
      "with destiny; James Cameronin one of the most terrifying sequences ever put on film takes us down with the Titanic,\n",
      "finally leaving us floundering in the icy water, screaming for help that never comes...<br /><br />Winner of 11 Academy\n",
      "Awards, including Best Picture, James Cameron's \"Titanic\" is a gigantic epic where you don't just watch the film, you\n",
      "experience it! The visual effects are amazing, like no other film's... The decor is overwhelming... James Horner's music\n",
      "intensifies the emotions... The whole movie is hunting and involving, filled with a wide range of deep feelings... <br\n",
      "/><br />It's truly a moving tribute to those who lost their lives on that unfortunate ship... Comment [4]: Titanic\n",
      "directed by James Cameron presents a fictional love story on the historical setting of the Titanic. The plot is simple,\n",
      "noncomplicated, or not for those who love plots that twist and turn and keep you in suspense. The end of the movie can\n",
      "be figured out within minutes of the start of the film, but the love story is an interesting one, however. Kate Winslett\n",
      "is wonderful as Rose, an aristocratic young lady betrothed by Cal (Billy Zane). Early on the voyage Rose meets Jack\n",
      "(Leonardo DiCaprio), a lower class artist on his way to America after winning his ticket aboard Titanic in a poker game.\n",
      "If he wants something, he goes and gets it unlike the upper class who are so concerned with their social worries. The\n",
      "two fall in love and the audience sees the sinking of the Titanic primarily through their eyes.<br /><br />The movie\n",
      "begins in modern times with the exploration of the wreck by a group searching for treasures, that sunk with the Titanic,\n",
      "which has recently occurred. One of the survivors of the Titanic, Rose DeWitt Bukater, who had heard of the exploration\n",
      "of the wreck on television and is flown to the boat where the search is being led from to tell of what she remembers to\n",
      "help the search. She gets to telling her memory of the one and only voyage of the Titanic. With this, the scene shifts\n",
      "to Southhampton, Ireland where the Titanic set sail from on April 10, 1912 as all the passengers are boarding. After\n",
      "another stop on the Irish coast Titanic went out to see on its maiden voyage across the Atlantic bound for New York.\n",
      "Historically the first few days of the voyage went by uneventful, but the fictional plot of the story is developed\n",
      "during this time as Rose sees the hopeless entrapement of an engagement that she is in to the wealthy Cal Hockley and\n",
      "falls in love with third class passenger, Jack Dawson. Captain Smith alledgedly as shown in the movie was urged by the\n",
      "White Star Line Director to increase the speed of the ship so they would make the newspaper headlines and receive extra\n",
      "publicity by arriving in New York on Thursday night and not on Friday morning as planned. Smith then ordered the fateful\n",
      "decision going against his thirty-two years of experience to stretch the Titanic's legs out to full speed. The Titanic\n",
      "had reports that the waters in the Atlantic they were sailing in were full of icebergs, but they ignored these warnings\n",
      "and proceeded at full speed as shown in the movie. On April 15, 1912 at 11:39, an iceberg was sighted. They attempted to\n",
      "shut off the engines and turn the ship out of the path of the iceberg but there was not enough time and the ship hit the\n",
      "iceberg on the starboard side as depicted in the film. The portrayal of the many small holes in the side of the ship and\n",
      "not one large gash along the side is accurate. The crew of Titanic sent out distress calls and set off distress rockets\n",
      "as shown until 2:18 when the lights finally failed. The lights of the California were spotted six miles away but they\n",
      "failed to realize what was going on and did not respond to Titanic's many pleas for help. The California had tried\n",
      "earlier in the day to warn Titanic of the severe ice that had caused them to stop their trip but Titanic had brushed\n",
      "them off causing the California to turn off its radio and leave the Titanic on its own. The first class women and\n",
      "children were the first as depicted to be put into the twenty lifeboats that were on the ship. Overwhelmingly the third\n",
      "class passengers suffered the most amount of deaths of any class and the crew was hit hard in this tragedy too. The word\n",
      "of White Star Line employees and first class passengers was believed over that of second and third class passengers when\n",
      "authorities were trying to gain information of the sinking. Also, the metal that was used to build the Titanic has been\n",
      "found in recent years under conditions of severe cold, which were experienced the night Titanic sank to be extremely\n",
      "brittle. Overall, the basic plot is very accurate in its portayal of the events and the times at which these events took\n",
      "place on the Titanic.<br /><br />Many of the characters in the story were not real and created simply for the purpose of\n",
      "the movie or as composite characters to represent possible characteristics and ideas of people on the ship. The core\n",
      "group of Rose, Jack, Cal, and Rose's mother all were fictional characters added into the story as they represent\n",
      "different groups of people from the time. Yet many characters such as the Unsinkable Molly Brown; Captain Edward Smith;\n",
      "the ship designer, Thomas Andrew; the White Star Line Representative, Bruce Ismay; and all of the Titanic's officers\n",
      "were real. The maiden voyage was going to be Captain Edward Smith's last voyage anyway as he planned to retire\n",
      "afterwards. He had been a part of the White Star Line since 1880 where he worked his way up to his status as the\n",
      "Millionaire's Captain when the Titanic sunk. The portrayals of the officers is accurate as only four survived the\n",
      "tragedy except for the officer who threatened to kill all of the passengers of the ship with his pistol. He is on record\n",
      "as acting heroicly and was misportrayed to the point that James Cameron apologized and evoked a monument in his honor in\n",
      "the officer's former Canadian hometown. As shown in the movie there was a language problem between the crew and many of\n",
      "the lower-class passengers from non-English speaking nations. In addition, Officer Lowe was the only officer who came\n",
      "back in the lifeboat as depicted. The old people shown in their bed as the water came in their room were based on the\n",
      "Strauss'. Not wanting to leave her husband's side Mrs. Strauss refused to get in her lifeboat and died with her husband\n",
      "on the Titanic. Furthermore, Mr. Goggenheim who was shown sipping his brandy and smoking a cigar reportedly did go out\n",
      "like this dressed in his best. The richest man on the ship, John Jacob Astor, who owned most of Manhattan died\n",
      "nonetheless as well, but his much younger wife was saved in a lifeboat. In addition, Molly Brown was saved and later had\n",
      "medals made up for the crew of the Carpethia that picked the survivors of Titanic up from the water. Her ticket on the\n",
      "Titanic had cost over four-thousand dollars and by the end of her life she ended up broke. All of the interiors of the\n",
      "ship were masterfully replacated down to the last pieces of china and silverware. The gymnasium, which is hardly seen is\n",
      "recreated perfectly with all of the machines reproduced to match those seen in old photographs. The wonderful outfits\n",
      "and costuming were an excellent re-creation of the Post-Victorian era of 1912. The rich at this time practically ruled\n",
      "everything, as the women's suffrage movement had not quite gotten moving yet. Women during this time often married for\n",
      "financial security as Rose was considering doing and normally took a back seast status to their husbands as Cal wished\n",
      "for Rose to do. The rich did not take well to `new money' such as Molly Brown as depicted. Everything of the time was\n",
      "very formal. Women had to be escorted to dinner by a male figure as seen with in the dining scenes. Smoking was not very\n",
      "common among women of the time but holders of cigarettes, which were just coming in at the time were used as seen with\n",
      "Rose in the movie. Men of the time generally smoked cigars not cigarettes. Women were constained physically by their\n",
      "corsets and socially by society. Although James Cameron had no background in historical films he brought in experts of\n",
      "Titanic coupled with two years spent cross-referencing the history of the Titanic and few liberties were taken. The\n",
      "beautiful cinematography and special effects also helped to make the film even more breathtaking.<br /><br />A\n",
      "recognizable message can be seen in the movie Titanic as the people on the ship had about three hours to contemplate\n",
      "their demise. The director, James Cameron, shows the various reactions to this time of crisis in people's lives.\n",
      "Everyone reacts differently and he gets you to think of how you might have reacted had you been in that situation on the\n",
      "Titanic on that fateful night. In addition, this film is a reflection of the 1990's when it was produced as it gives a\n",
      "look into the wreck of the Titanic. Only in the past fifteen years has the site of the actual Titanic been found and\n",
      "explored. This movie was able to give us a deeper look into a disaster that many would not have viewed. However, the\n",
      "moral question of whether people today should be taking treasures from the wreck of an underwater graveyard is posed.\n",
      "There have been attempts to stop treasure seeking missions such as the one portrayed in Titanic but all have failed. As\n",
      "it stands today anyone can make a voyage to the Titanic and take whatever valuables they as portrayed in the film\n",
      "showing the general values of our time on this matter.<br /><br />Technically the film is very well done. To get footage\n",
      "of the wreck at the bottom of the ocean it took twelve dives to get all of the footage needed for the movie. In\n",
      "addition, a special camera had to be created to withstand the intense pressure at the bottom of the ocean. Cameron did\n",
      "not plan on using the probe to go as far inside Titanic as anyone has in the 88 years since the ship sunk but it worked\n",
      "out that this provided an unique perspective into the ship. Furthermore, throughout the film fade ins and outs from the\n",
      "wreck of Titanic to the scene of Titanic during its actual voyage. This shift between the modern scene to the past scene\n",
      "during the voyage works as an excellent transition that makes the story easy to follow in aclear manner. At the very\n",
      "beginning of the movie a septune recreation is used to recreate the scene when the actual people left the European coast\n",
      "on Titanic giving it distinction from the rest of the events of the film.<br /><br />Titanic plays almost like a\n",
      "historical biography and is like a work of art, a true epic. Like most history novels, we know the ending, but it\n",
      "doesn't take away from the wonderful treats that can be found in this picture. Certain aspects of this film are Academy\n",
      "Award material including costuming, sound, cintematography, and editing. If you like interesting characters that will\n",
      "give you an insight into the life of characters in the early 1900's and how they face disaster, then this movie\n",
      "definitely is for you.<br /><br />      ANSWER:\n",
      "\n",
      " The main character in the movie Titanic is Jack, played by Leonardo DiCaprio. He is a fictional character and a lower-\n",
      "class artist who falls in love with Rose, a woman from a higher social class, played by Kate Winslet. The movie is a\n",
      "romantic drama set against the backdrop of the real-life sinking of the RMS Titanic in 1912.\n"
     ]
    }
   ],
   "source": [
    "result = generate_response_rag(QUERY, verbose=True)"
   ]
  },
  {
   "cell_type": "code",
   "execution_count": 196,
   "metadata": {},
   "outputs": [],
   "source": [
    "QUERY = \"What movie you recommend to watch?\""
   ]
  },
  {
   "cell_type": "code",
   "execution_count": 197,
   "metadata": {},
   "outputs": [
    {
     "name": "stdout",
     "output_type": "stream",
     "text": [
      "     Answer the following QUERY based on your internal knowledge.      QUERY: What movie you recommend to watch?\n",
      "ANSWER:\n",
      "\n",
      " I recommend watching \"The Shawshank Redemption.\" It's a classic drama film that tells the story of two prisoners who\n",
      "form a deep friendship and find redemption through acts of common decency. The movie is highly rated and has been\n",
      "praised for its strong performances, compelling story, and thought-provoking themes. It's a great choice for anyone\n",
      "looking for a powerful and moving film experience.\n"
     ]
    }
   ],
   "source": [
    "result = generate_response_no_rag(QUERY, verbose=True)"
   ]
  },
  {
   "cell_type": "code",
   "execution_count": 198,
   "metadata": {},
   "outputs": [
    {
     "name": "stdout",
     "output_type": "stream",
     "text": [
      "     Answer the following QUERY based on the given CONTEXT below, plese provide ANSWER to the folowing QUERY.\n",
      "QUERY: What movie you recommend to watch?      CONTEXT: Comment [0]: for those of you who love lord of the rings and\n",
      "love special effects, watch this movie! this will be sure to keep you glued to the screen. you will probably even like\n",
      "it if you like watching people fight with magical stuff. Comment [1]: I'm no fan of newer movies, but this one was a\n",
      "real pleasure to watch. Adults and children could watch it together - how unusual! My aunt liked it, too. It had\n",
      "laughter, tears, love, adventure, special effects, good actors - and a talking parrot. It reminded me of a favourite,\n",
      "The Wizard of Oz. The hero, Paulie, an intelligent parrot, is separated from his home and family and goes through many\n",
      "adventures, temptations and disappointments, always keeping in mind his resolution to find his friend, Marie. Highly\n",
      "recommended. Comment [2]: If you like bad movies, this is the one to see. It's incredibly low-budget special effects\n",
      "(you'll see what I mean) and use of non-actors was what gave this film it's charm. If you're bored with a group of\n",
      "friends, I highly recommend renting this B movie gem. It's mulletrific! Comment [3]: REnted this one accidentally, it\n",
      "was behind the movie box of what i thought i was renting, didn't find out until i got home, watched it anyways.\n",
      "Absolutely FANTASTIC! a wonderful movie, and one of my top three favorite of all time, i recommend it to Everyone!<br\n",
      "/><br />The story is enjoyable and easy to follow, this could have been easily messed up, but the actors and director do\n",
      "a great job of keeping it together.<br /><br />The actors themselves are fantastic, displaying wonderful character and\n",
      "doing a terrific job. <br /><br />Gotta find a copy somewhere........... Comment [4]: The worst movie I have seen in a\n",
      "while. Yeah its fun to fantasize, but if that is what you are looking for, I suggest you see Brewsters Millions. This\n",
      "was just terrible and corny and terrible at being corny. Unless you are five or like terrible movies, don't see this\n",
      "one.      ANSWER:\n",
      "\n",
      " Based on the given context, I would recommend the movie mentioned in Comment [0] and Comment [3]. The movie seems to\n",
      "have special effects and magical elements that might appeal to fans of Lord of the Rings. The story is enjoyable and\n",
      "easy to follow, with great acting and direction. However, please note that the context does not provide the title of the\n",
      "movie.  On the other hand, the movie mentioned in Comment [1] is also highly recommended. It's a family-friendly movie\n",
      "with laughter, tears, love, adventure, special effects, and good actors. The hero is an intelligent parrot who goes\n",
      "through many adventures to find his friend. This movie is compared to The Wizard of Oz.  The movie mentioned in Comment\n",
      "[2] is recommended for those who enjoy bad movies. It has incredibly low-budget special effects and uses non-actors,\n",
      "which gives the film its charm.  The movie mentioned in Comment [4] is not recommended as it is described as the worst\n",
      "movie the reviewer has seen in a while. It is considered terrible and corny.\n"
     ]
    }
   ],
   "source": [
    "result = generate_response_rag(QUERY, verbose=True)"
   ]
  },
  {
   "cell_type": "code",
   "execution_count": 199,
   "metadata": {},
   "outputs": [],
   "source": [
    "QUERY = \"What are the opinions about movie named Rubber?\""
   ]
  },
  {
   "cell_type": "code",
   "execution_count": 200,
   "metadata": {},
   "outputs": [
    {
     "name": "stdout",
     "output_type": "stream",
     "text": [
      "     Answer the following QUERY based on your internal knowledge.      QUERY: What are the opinions about movie named\n",
      "Rubber?      ANSWER:\n",
      "\n",
      " \"Rubber\" is a 2010 French independent horror comedy film written and directed by Quentin Dupieux. The film is about a\n",
      "tire that comes to life and goes on a killing spree. The movie has received mixed reviews from critics and audiences.\n",
      "Some critics have praised the film for its originality, creativity, and absurd humor. They appreciate the film's unique\n",
      "concept and its commentary on the nature of cinema and audience expectations. The film's technical aspects, such as its\n",
      "cinematography and sound design, have also been praised.  On the other hand, some critics have found the film to be too\n",
      "strange, incoherent, and self-indulgent. They argue that the film's concept is not enough to sustain a feature-length\n",
      "film and that the humor is too obscure and niche. Some viewers have also found the film's pacing to be slow and its\n",
      "characters to be underdeveloped.  Overall, \"Rubber\" is a polarizing film that has divided audiences and critics. Some\n",
      "people love its absurdity and originality, while others find it to be too strange and incoherent. It is definitely not a\n",
      "film for everyone, but those who enjoy experimental and unconventional cinema may find it to be a unique and\n",
      "entertaining experience.\n"
     ]
    }
   ],
   "source": [
    "result = generate_response_no_rag(QUERY, verbose=True)"
   ]
  },
  {
   "cell_type": "code",
   "execution_count": 202,
   "metadata": {},
   "outputs": [
    {
     "name": "stdout",
     "output_type": "stream",
     "text": [
      "     Answer the following QUERY based on the given CONTEXT below, plese provide ANSWER to the folowing QUERY.\n",
      "QUERY: What are the opinions about movie named Rubber?      CONTEXT: Comment [0]: <br /><br />I watched this movie just\n",
      "a little while ago and I found that this movie was terrible! It moved very slowly and was hardly entertaining!<br /><br\n",
      "/>Sorry for all those that liked it.... this is only my opinion! Comment [1]: This movie is terrible but it has some\n",
      "good effects. Comment [2]: I only watched this film from beginning to end because I promised a friend I would. It lacks\n",
      "even unintentional entertainment value that many bad films have. It may be the worst film I have ever seen. I'm\n",
      "surprised a distributor put their name on it. Comment [3]: This film is the worst film I have ever seen. The story line\n",
      "is weak - I couldn't even follow it. The acting is high-schoolish. The sound track is irritating. The attempts at humor\n",
      "are not. The editing is horrible. The credits are even slow - I would be embarrassed to have my name associated with\n",
      "this waste of film. Don't waste your time even thinking about this attempt at acting. Comment [4]: This film was the\n",
      "worst film I have ever viewed. It was like a \"homework assignment\" for a film class. It totally misses the mark when it\n",
      "comes to the \"message\" it is TRYING to relay. Characters are over exaggerated, poor acting and as for a plot...well it\n",
      "is utterly ridiculous. The cover shot is what made me think it may be a decent film, the co-actor is handsome and that's\n",
      "about it. Moral of this movie: NEVER JUDGE A MOVIE BY IT'S COVER! Save your time, money and energy and make your own\n",
      "home movie and you will be far better off than I. It was painful to watch and quite frankly I am surprised that anyone\n",
      "would spend money to make and distribute it!      ANSWER:\n",
      "\n",
      " Based on the given context, the opinions about the movie named Rubber are predominantly negative. Here are some\n",
      "specific opinions:  1. Comment [0]: The user found the movie terrible, moving very slowly and hardly entertaining. 2.\n",
      "Comment [1]: This user also thought the movie was terrible but acknowledged that it had some good effects. 3. Comment\n",
      "[2]: This user only watched the film because of a promise to a friend and found it to be the worst film they had ever\n",
      "seen, lacking even unintentional entertainment value. 4. Comment [3]: This user also found the film to be the worst they\n",
      "had ever seen, criticizing the weak storyline, poor acting, irritating soundtrack, lack of humor, and bad editing. 5.\n",
      "Comment [4]: This user agreed that the film was the worst they had ever viewed, comparing it to a \"homework assignment\"\n",
      "for a film class. They criticized the over-exaggerated characters, poor acting, and ridiculous plot. They also mentioned\n",
      "that the cover shot was misleading and that they were surprised anyone would spend money to make and distribute the\n",
      "film.  In summary, the opinions about the movie Rubber are overwhelmingly negative, with users criticizing various\n",
      "aspects of the film such as the storyline, acting, soundtrack, humor, editing, and plot.\n"
     ]
    }
   ],
   "source": [
    "result = generate_response_rag(QUERY, verbose=True)"
   ]
  },
  {
   "cell_type": "code",
   "execution_count": 203,
   "metadata": {},
   "outputs": [],
   "source": [
    "QUERY = \"Sumarize an opinions about movie named I Am Curious: Yellow\""
   ]
  },
  {
   "cell_type": "code",
   "execution_count": 204,
   "metadata": {},
   "outputs": [
    {
     "name": "stdout",
     "output_type": "stream",
     "text": [
      "     Answer the following QUERY based on your internal knowledge.      QUERY: Sumarize an opinions about movie named I\n",
      "Am Curious: Yellow      ANSWER:\n",
      "\n",
      " \"I Am Curious: Yellow\" is a 1967 Swedish drama film directed by Vilgot Sjöman. The film is known for its explicit\n",
      "sexual content and its exploration of social and political issues. The film received mixed reviews from critics and\n",
      "audiences alike.  Some critics praised the film for its bold and innovative approach to filmmaking, as well as its frank\n",
      "and honest portrayal of sexuality. They saw it as a groundbreaking work that challenged traditional norms and pushed the\n",
      "boundaries of what was considered acceptable in cinema.  However, other critics were less impressed with the film. Some\n",
      "found it to be overly explicit and gratuitous, while others felt that its political message was heavy-handed and\n",
      "preachy. Some viewers also found the film to be confusing and difficult to follow, due to its non-linear narrative\n",
      "structure and experimental style.  Despite its mixed reception, \"I Am Curious: Yellow\" remains an important and\n",
      "influential film in the history of cinema. It helped to pave the way for more explicit and daring films in the years\n",
      "that followed, and its impact can still be felt in contemporary cinema today.\n"
     ]
    }
   ],
   "source": [
    "result = generate_response_no_rag(QUERY, verbose=True)"
   ]
  },
  {
   "cell_type": "code",
   "execution_count": 205,
   "metadata": {},
   "outputs": [
    {
     "name": "stdout",
     "output_type": "stream",
     "text": [
      "     Answer the following QUERY based on the given CONTEXT below, plese provide ANSWER to the folowing QUERY.\n",
      "QUERY: Sumarize an opinions about movie named I Am Curious: Yellow      CONTEXT: Comment [0]: I rented I AM CURIOUS-\n",
      "YELLOW from my video store because of all the controversy that surrounded it when it was first released in 1967. I also\n",
      "heard that at first it was seized by U.S. customs if it ever tried to enter this country, therefore being a fan of films\n",
      "considered \"controversial\" I really had to see this for myself.<br /><br />The plot is centered around a young Swedish\n",
      "drama student named Lena who wants to learn everything she can about life. In particular she wants to focus her\n",
      "attentions to making some sort of documentary on what the average Swede thought about certain political issues such as\n",
      "the Vietnam War and race issues in the United States. In between asking politicians and ordinary denizens of Stockholm\n",
      "about their opinions on politics, she has sex with her drama teacher, classmates, and married men.<br /><br />What kills\n",
      "me about I AM CURIOUS-YELLOW is that 40 years ago, this was considered pornographic. Really, the sex and nudity scenes\n",
      "are few and far between, even then it's not shot like some cheaply made porno. While my countrymen mind find it\n",
      "shocking, in reality sex and nudity are a major staple in Swedish cinema. Even Ingmar Bergman, arguably their answer to\n",
      "good old boy John Ford, had sex scenes in his films.<br /><br />I do commend the filmmakers for the fact that any sex\n",
      "shown in the film is shown for artistic purposes rather than just to shock people and make money to be shown in\n",
      "pornographic theaters in America. I AM CURIOUS-YELLOW is a good film for anyone wanting to study the meat and potatoes\n",
      "(no pun intended) of Swedish cinema. But really, this film doesn't have much of a plot. Comment [1]: I don't know how or\n",
      "why this film has a meager rating on IMDb. This film, accompanied by \"I am Curious: Blue\" is a masterwork.<br /><br\n",
      "/>The only thing that will let you down in this film is if you don't like the process of film, don't like psychology or\n",
      "if you were expecting hardcore pornographic ramming.<br /><br />This isn't a film that you will want to watch to unwind;\n",
      "it's a film that you want to see like any other masterpiece, with time, attention and care.<br /><br />******SUMMARIES,\n",
      "MAY CONTAIN A SPOILER OR TWO*******<br /><br />The main thing about this film is that it blends the whole film, within a\n",
      "film thing, but it does it in such a way that sometimes you forget that the fictions aren't real.<br /><br />The film is\n",
      "like many films in one:<br /><br />1. A political documentary, about the social system in Sweden at the time. Which in a\n",
      "lot of ways are still relevant to today. Interviews done by a young woman named Lena.<br /><br />2. A narrative about a\n",
      "filmmaker, Vilgot Sjoman, making a film... he deals with a relationship with his star in the film and how he should have\n",
      "never got involved with people he's supposed to work with.<br /><br />3. The film that Vilgot is making. It's about a\n",
      "young woman named Lena(IE. #2), who is young and very politically active, she is making a documentary (IE. #1.). She is\n",
      "also a coming of age and into her sexuality, and the freedom of that.<br /><br />The magnificence and sheer brilliance\n",
      "of \"I am Curious: Yellow/Blue\" is how these three elements are cut together. In one moment you are watching an interview\n",
      "about politics, and the next your watching what the interviewer is doing behind the scenes but does that so well that\n",
      "you sometimes forget that it is the narrative.<br /><br />Another thing is the dynamic between \"Yellow\" and \"Blue\",\n",
      "which if you see one, you must see the other. \"Blue\" is not a sequel at all. I'll try to explain it best i can because\n",
      "to my knowledge, no other films have done it though it is a great technique.<br /><br />Think of \"Yellow\" as a living\n",
      "thing, actual events in 14 scenes. A complete tale.<br /><br />Think of \"Blue\" as all the things IN BETWEEN the 14\n",
      "scenes in \"Yellow\" that you didn't see, that is a complete tale on it's own.<br /><br />Essentially they are parallel\n",
      "films... the same story, told in two different ways.<br /><br />It wasn't until i saw the first 30 minutes of \"Blue\"\n",
      "that i fully understood \"Yellow\"<br /><br />I hope this was helpful for people who are being discouraged by various\n",
      "influences, because this film changed the way i looked at film.<br /><br />thanks for your time. Comment [2]: \"I Am\n",
      "Curious: Yellow\" is a risible and pretentious steaming pile. It doesn't matter what one's political views are because\n",
      "this film can hardly be taken seriously on any level. As for the claim that frontal male nudity is an automatic NC-17,\n",
      "that isn't true. I've seen R-rated films with male nudity. Granted, they only offer some fleeting views, but where are\n",
      "the R-rated films with gaping vulvas and flapping labia? Nowhere, because they don't exist. The same goes for those\n",
      "crappy cable shows: schlongs swinging in the breeze but not a clitoris in sight. And those pretentious indie movies like\n",
      "The Brown Bunny, in which we're treated to the site of Vincent Gallo's throbbing johnson, but not a trace of pink\n",
      "visible on Chloe Sevigny. Before crying (or implying) \"double-standard\" in matters of nudity, the mentally obtuse should\n",
      "take into account one unavoidably obvious anatomical difference between men and women: there are no genitals on display\n",
      "when actresses appears nude, and the same cannot be said for a man. In fact, you generally won't see female genitals in\n",
      "an American film in anything short of porn or explicit erotica. This alleged double-standard is less a double standard\n",
      "than an admittedly depressing ability to come to terms culturally with the insides of women's bodies. Comment [3]: I am\n",
      "Curious (Yellow) (a film, in near Seussical rhyme, is said right at the start to be available in two versions, Yellow\n",
      "and Blue) was one of those big art-house hits that first was a major sensation in Sweden then a big scandal/cause-\n",
      "celebre in the United States when the one print was held by customs and it went all the way to the Supreme Court. What's\n",
      "potent in the picture today is not so much what might offend by way of what's revealed in the sex or nudity- the\n",
      "director/\"actor\" Vilgot Sjoman films the various scenes in such a way that there is an abundance of flesh and genitalia\n",
      "and the occasional graphic bit but it's always more-so an intellectual expression than very lust-like- but the daring of\n",
      "the attempt at a pure 'metafilm' while at the same time making a true statement on the state of affairs in Sweden. Who\n",
      "knew such things in a generally peaceful country (i.e. usually neutral in foreign affairs and wars) could be so heated-\n",
      "up politically? At least, that's part of Sjoman's aim here. <br /><br />Like a filmmaker such as Dusan Makavajev with\n",
      "some of his works like W.R. (if not as surreal and deranged) or to a slightly lesser extent Bertolucci, Sjoman is out to\n",
      "mix politics and sex (mostly politics and social strata) around in the midst of also making it a comment on embodying a\n",
      "character in a film. The two characters, Lena and Borje, have a hot-cold relationship in the story of the film, where\n",
      "Lena is a \"curious\" socialist-wannabe who demonstrates in the street for nonviolence and 'trains' sort of in a cabin in\n",
      "the woods to become a fully functioning one, while at the same time maybe too curious about her car salesman boyfriend.\n",
      "And as this is going on, which is by itself enough for one movie, Sjoman inserts himself and his crew from time to time\n",
      "as they are making this story on film (there's even a great bit midway through where, as if at a rock concert, title\n",
      "cards fill in during a break in shooting who the crew are, negating having to use end credits!) Then with this there's a\n",
      "whole other dynamic as Sjoman gives an actual performance, not just a \"hey, I'm the director playing the director\"\n",
      "bit.<br /><br />At first, one might not get this structure and that I am Curious (Yellow) is just a film where Lena is a\n",
      "documentary interviewer asking subjects about their thoughts on class, socialism, Spain and Franco, and once in a while\n",
      "we see Lena's father or Bjore. But Sjoman does something interesting: the structure is so slippery as the viewer one has\n",
      "to stay on toes; it's impressive that so many years on a picture can surprise with not being afraid to mix dramatic\n",
      "narrative, documentary, film-within-a-film, and even a serious interview with Martin Luther King, who also acts as a\n",
      "quasi-guru for Lena. It might not always be completely coherent analysis politically, but it doesn't feel cheating or\n",
      "even with much of a satirical agenda like in a Godard picture; the satire Sjoman is after is akin to a Godard but on a\n",
      "whole other wavelength. His anarchy is playful but not completely loaded with semantics or tricks that could put off the\n",
      "less initiated viewer.<br /><br />If I Am Curious (Yellow) stands up as an intellectual enterprise and a full-blown trip\n",
      "into exploring sex in a manner that was and is captivating for how much is shown and how comfortable it all seems to be\n",
      "for the actors, it isn't entirely successful, I think, as an emotional experience. Where Bergman had it down to a T with\n",
      "making a purely emotional film with deconstruction tendencies, Sjoman is more apt at connecting with specific ideas\n",
      "while not actually directing always very well when it comes time to do big or subtle scenes with the actors.\n",
      "Occasionally it works if only for the actors, Lena Nyman (mostly spectacular here in a performance that asks of her to\n",
      "make an ambitious but confused kid into someone sympathetic and vulnerable even) and Borje Ahlstedt (a great realistic\n",
      "counterpoint to the volatile Lena), but some 40 years later its hard to completely connect with everything that happens\n",
      "in the inner-film of Lena and Borje since (perhaps intentionally) Sjoman fills it up with clichés (Borje has a\n",
      "girlfriend and kid, will he leave her, how will Lena reconcile her father) and a heavy-handed narration from his starlet\n",
      "of sorts.<br /><br />And yet, for whatever faults Sjoman may have, ironically considering he means it to be a comment on\n",
      "itself, I Am Curious (Yellow) holds up beautifully as an artistic experiment in testing the waters of what could be done\n",
      "in Swedish cinema, or testing what couldn't be and bending it for provocative and comedic usage. I'd even go as far as\n",
      "to say it's influential, and has probably been copied or imitated in more ways than one due to it being such a cult\n",
      "phenomenon at its time (a specific technique used, with the film rewinding towards the end, is echoed in poorer usage in\n",
      "Funny Games), and should be seen by anyone looking into getting into avant-garde or meta-film-making. If it's not quite\n",
      "as outstanding an artistic leap as W.R. or Last Tango, it's close behind. Comment [4]: Fascinating I approached I Am\n",
      "Curious (Yellow) and it's companion piece with great trepidation. I'd read numerous reports on its widely touted\n",
      "controversy and explicit sex. What I got wasn't this, but a thoroughly thought provoking and engaging cinema experience\n",
      "unlike any other. I sincerely believe that the majority of the commenter who felt the film was `lame' or `boring'\n",
      "approached the film as if it were pornography. Perhaps this is pornography, assuming pornography is something intended\n",
      "to titillate the senses, but it is intentionally un-erotic. Lena, the protagonist, throws her all into her performance\n",
      "giving it a realistic and humanity that is simply convincing and enduring. Her breasts may be saggy, her nipples\n",
      "unusually large, her thighs fat, and her face, chubby. But by the end of the film, the audience comes to identify with\n",
      "her, and accept her faults as human. This touch gives her even more believability out necessity. Had the director cast a\n",
      "Briget Bardot bombshell the effect would have been nullified. I cannot more highly recommend this thought provoking\n",
      "piece. Be prepared to invest much thought in this deliberately paced film. The patient and unassuming viewer will be\n",
      "thoroughly rewarded in ways most other films could dream.      ANSWER:\n",
      "\n",
      " The opinions about the movie \"I Am Curious: Yellow\" are varied, but overall, it is considered a thought-provoking and\n",
      "engaging film that is unlike any other. Some viewers appreciate its artistic merit and its exploration of political and\n",
      "social issues in Sweden, while others find it pretentious and lacking in plot. The film is known for its explicit sex\n",
      "scenes, which some viewers find un-erotic and intentionally unappealing. The main character, Lena, is praised for her\n",
      "realistic and human portrayal, which adds to the film's believability. However, some viewers find the film slow-paced\n",
      "and difficult to follow. Overall, \"I Am Curious: Yellow\" is a film that requires patience and thought, and those who are\n",
      "willing to invest in it will be rewarded with a unique and thought-provoking cinema experience.\n"
     ]
    }
   ],
   "source": [
    "result = generate_response_rag(QUERY, verbose=True)"
   ]
  },
  {
   "cell_type": "code",
   "execution_count": 206,
   "metadata": {},
   "outputs": [
    {
     "name": "stdout",
     "output_type": "stream",
     "text": [
      " The opinions about the movie \"I Am Curious: Yellow\" are varied, but overall, it is considered a thought-provoking and\n",
      "engaging film that is unlike any other. Some viewers appreciate its artistic merit and its exploration of political and\n",
      "social issues in Sweden, while others find it pretentious and lacking in plot. The film is known for its explicit sex\n",
      "scenes, which some viewers find un-erotic and intentionally unappealing. The main character, Lena, is praised for her\n",
      "realistic and human portrayal, which adds to the film's believability. However, some viewers find the film slow-paced\n",
      "and difficult to follow. Overall, \"I Am Curious: Yellow\" is a film that requires patience and thought, and those who are\n",
      "willing to invest in it will be rewarded with a unique and thought-provoking cinema experience.\n"
     ]
    }
   ],
   "source": [
    "print(\"\\n\".join(textwrap.wrap(result, width=TEXT_WRAP_WIDTH)))"
   ]
  },
  {
   "cell_type": "code",
   "execution_count": null,
   "metadata": {},
   "outputs": [],
   "source": []
  }
 ],
 "metadata": {
  "kernelspec": {
   "display_name": "golem-ner",
   "language": "python",
   "name": "python3"
  },
  "language_info": {
   "codemirror_mode": {
    "name": "ipython",
    "version": 3
   },
   "file_extension": ".py",
   "mimetype": "text/x-python",
   "name": "python",
   "nbconvert_exporter": "python",
   "pygments_lexer": "ipython3",
   "version": "3.10.11"
  }
 },
 "nbformat": 4,
 "nbformat_minor": 2
}
